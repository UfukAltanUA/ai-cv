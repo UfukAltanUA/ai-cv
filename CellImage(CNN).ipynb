{
 "cells": [
  {
   "cell_type": "code",
   "execution_count": 5,
   "metadata": {},
   "outputs": [],
   "source": [
    "import pandas as pd\n",
    "import seaborn as sns\n",
    "import matplotlib.pyplot as plt\n",
    "import numpy as np"
   ]
  },
  {
   "cell_type": "code",
   "execution_count": 6,
   "metadata": {},
   "outputs": [],
   "source": [
    "from matplotlib.image import imread"
   ]
  },
  {
   "cell_type": "code",
   "execution_count": 7,
   "metadata": {},
   "outputs": [],
   "source": [
    "train_path = 'C:\\\\Users\\\\Ufuk Altan\\\\Downloads\\\\Downloads\\\\Data Science\\\\cell_images\\\\train\\\\'\n",
    "test_path = 'C:\\\\Users\\\\Ufuk Altan\\\\Downloads\\\\Downloads\\\\Data Science\\\\cell_images\\\\test\\\\'"
   ]
  },
  {
   "cell_type": "code",
   "execution_count": 8,
   "metadata": {},
   "outputs": [],
   "source": [
    "import os"
   ]
  },
  {
   "cell_type": "code",
   "execution_count": 7,
   "metadata": {},
   "outputs": [
    {
     "data": {
      "text/plain": [
       "['C100P61ThinF_IMG_20150918_144104_cell_162.png',\n",
       " 'C100P61ThinF_IMG_20150918_144104_cell_163.png',\n",
       " 'C100P61ThinF_IMG_20150918_144104_cell_164.png',\n",
       " 'C100P61ThinF_IMG_20150918_144104_cell_165.png',\n",
       " 'C100P61ThinF_IMG_20150918_144104_cell_166.png',\n",
       " 'C100P61ThinF_IMG_20150918_144104_cell_167.png',\n",
       " 'C100P61ThinF_IMG_20150918_144104_cell_168.png',\n",
       " 'C100P61ThinF_IMG_20150918_144104_cell_169.png',\n",
       " 'C100P61ThinF_IMG_20150918_144104_cell_170.png',\n",
       " 'C100P61ThinF_IMG_20150918_144104_cell_171.png',\n",
       " 'C100P61ThinF_IMG_20150918_144348_cell_138.png',\n",
       " 'C100P61ThinF_IMG_20150918_144348_cell_139.png',\n",
       " 'C100P61ThinF_IMG_20150918_144348_cell_140.png',\n",
       " 'C100P61ThinF_IMG_20150918_144348_cell_141.png',\n",
       " 'C100P61ThinF_IMG_20150918_144348_cell_142.png',\n",
       " 'C100P61ThinF_IMG_20150918_144348_cell_143.png',\n",
       " 'C100P61ThinF_IMG_20150918_144823_cell_157.png',\n",
       " 'C100P61ThinF_IMG_20150918_144823_cell_158.png',\n",
       " 'C100P61ThinF_IMG_20150918_144823_cell_159.png',\n",
       " 'C100P61ThinF_IMG_20150918_144823_cell_160.png',\n",
       " 'C100P61ThinF_IMG_20150918_144823_cell_161.png',\n",
       " 'C100P61ThinF_IMG_20150918_144823_cell_162.png',\n",
       " 'C100P61ThinF_IMG_20150918_145042_cell_162.png',\n",
       " 'C100P61ThinF_IMG_20150918_145042_cell_163.png',\n",
       " 'C100P61ThinF_IMG_20150918_145042_cell_164.png',\n",
       " 'C100P61ThinF_IMG_20150918_145042_cell_165.png',\n",
       " 'C100P61ThinF_IMG_20150918_145042_cell_166.png',\n",
       " 'C100P61ThinF_IMG_20150918_145042_cell_167.png',\n",
       " 'C100P61ThinF_IMG_20150918_145422_cell_163.png',\n",
       " 'C100P61ThinF_IMG_20150918_145422_cell_164.png',\n",
       " 'C100P61ThinF_IMG_20150918_145422_cell_166.png',\n",
       " 'C100P61ThinF_IMG_20150918_145422_cell_167.png',\n",
       " 'C100P61ThinF_IMG_20150918_145422_cell_168.png',\n",
       " 'C100P61ThinF_IMG_20150918_145422_cell_169.png',\n",
       " 'C100P61ThinF_IMG_20150918_145609_cell_144.png',\n",
       " 'C100P61ThinF_IMG_20150918_145609_cell_146.png',\n",
       " 'C100P61ThinF_IMG_20150918_145609_cell_147.png',\n",
       " 'C100P61ThinF_IMG_20150918_145609_cell_148.png',\n",
       " 'C100P61ThinF_IMG_20150918_145609_cell_151.png',\n",
       " 'C100P61ThinF_IMG_20150918_145938_cell_167.png',\n",
       " 'C100P61ThinF_IMG_20150918_145938_cell_168.png',\n",
       " 'C100P61ThinF_IMG_20150918_145938_cell_169.png',\n",
       " 'C100P61ThinF_IMG_20150918_145938_cell_170.png',\n",
       " 'C100P61ThinF_IMG_20150918_145938_cell_171.png',\n",
       " 'C100P61ThinF_IMG_20150918_145938_cell_172.png',\n",
       " 'C100P61ThinF_IMG_20150918_145938_cell_173.png',\n",
       " 'C100P61ThinF_IMG_20150918_145938_cell_174.png',\n",
       " 'C100P61ThinF_IMG_20150918_150041_cell_146.png',\n",
       " 'C100P61ThinF_IMG_20150918_150041_cell_147.png',\n",
       " 'C100P61ThinF_IMG_20150918_150041_cell_149.png',\n",
       " 'C101P62ThinF_IMG_20150918_151006_cell_61.png',\n",
       " 'C101P62ThinF_IMG_20150918_151006_cell_62.png',\n",
       " 'C101P62ThinF_IMG_20150918_151006_cell_63.png',\n",
       " 'C101P62ThinF_IMG_20150918_151006_cell_65.png',\n",
       " 'C101P62ThinF_IMG_20150918_151006_cell_66.png',\n",
       " 'C101P62ThinF_IMG_20150918_151006_cell_67.png',\n",
       " 'C101P62ThinF_IMG_20150918_151006_cell_68.png',\n",
       " 'C101P62ThinF_IMG_20150918_151006_cell_69.png',\n",
       " 'C101P62ThinF_IMG_20150918_151006_cell_70.png',\n",
       " 'C101P62ThinF_IMG_20150918_151006_cell_71.png',\n",
       " 'C101P62ThinF_IMG_20150918_151006_cell_72.png',\n",
       " 'C101P62ThinF_IMG_20150918_151006_cell_73.png',\n",
       " 'C101P62ThinF_IMG_20150918_151006_cell_74.png',\n",
       " 'C101P62ThinF_IMG_20150918_151006_cell_75.png',\n",
       " 'C101P62ThinF_IMG_20150918_151006_cell_76.png',\n",
       " 'C101P62ThinF_IMG_20150918_151006_cell_77.png',\n",
       " 'C101P62ThinF_IMG_20150918_151006_cell_78.png',\n",
       " 'C101P62ThinF_IMG_20150918_151006_cell_79.png',\n",
       " 'C101P62ThinF_IMG_20150918_151006_cell_80.png',\n",
       " 'C101P62ThinF_IMG_20150918_151006_cell_81.png',\n",
       " 'C101P62ThinF_IMG_20150918_151006_cell_82.png',\n",
       " 'C101P62ThinF_IMG_20150918_151006_cell_83.png',\n",
       " 'C101P62ThinF_IMG_20150918_151006_cell_84.png',\n",
       " 'C101P62ThinF_IMG_20150918_151006_cell_85.png',\n",
       " 'C101P62ThinF_IMG_20150918_151006_cell_86.png',\n",
       " 'C101P62ThinF_IMG_20150918_151149_cell_68.png',\n",
       " 'C101P62ThinF_IMG_20150918_151149_cell_69.png',\n",
       " 'C101P62ThinF_IMG_20150918_151149_cell_70.png',\n",
       " 'C101P62ThinF_IMG_20150918_151149_cell_71.png',\n",
       " 'C101P62ThinF_IMG_20150918_151149_cell_72.png',\n",
       " 'C101P62ThinF_IMG_20150918_151149_cell_73.png',\n",
       " 'C101P62ThinF_IMG_20150918_151149_cell_74.png',\n",
       " 'C101P62ThinF_IMG_20150918_151149_cell_75.png',\n",
       " 'C101P62ThinF_IMG_20150918_151149_cell_76.png',\n",
       " 'C101P62ThinF_IMG_20150918_151149_cell_77.png',\n",
       " 'C101P62ThinF_IMG_20150918_151149_cell_78.png',\n",
       " 'C101P62ThinF_IMG_20150918_151149_cell_79.png',\n",
       " 'C101P62ThinF_IMG_20150918_151149_cell_80.png',\n",
       " 'C101P62ThinF_IMG_20150918_151149_cell_81.png',\n",
       " 'C101P62ThinF_IMG_20150918_151149_cell_82.png',\n",
       " 'C101P62ThinF_IMG_20150918_151149_cell_83.png',\n",
       " 'C101P62ThinF_IMG_20150918_151149_cell_84.png',\n",
       " 'C101P62ThinF_IMG_20150918_151149_cell_85.png',\n",
       " 'C101P62ThinF_IMG_20150918_151149_cell_86.png',\n",
       " 'C101P62ThinF_IMG_20150918_151149_cell_87.png',\n",
       " 'C101P62ThinF_IMG_20150918_151149_cell_88.png',\n",
       " 'C101P62ThinF_IMG_20150918_151239_cell_100.png',\n",
       " 'C101P62ThinF_IMG_20150918_151239_cell_74.png',\n",
       " 'C101P62ThinF_IMG_20150918_151239_cell_75.png',\n",
       " 'C101P62ThinF_IMG_20150918_151239_cell_76.png',\n",
       " 'C101P62ThinF_IMG_20150918_151239_cell_77.png',\n",
       " 'C101P62ThinF_IMG_20150918_151239_cell_78.png',\n",
       " 'C101P62ThinF_IMG_20150918_151239_cell_79.png',\n",
       " 'C101P62ThinF_IMG_20150918_151239_cell_81.png',\n",
       " 'C101P62ThinF_IMG_20150918_151239_cell_82.png',\n",
       " 'C101P62ThinF_IMG_20150918_151239_cell_83.png',\n",
       " 'C101P62ThinF_IMG_20150918_151239_cell_84.png',\n",
       " 'C101P62ThinF_IMG_20150918_151239_cell_85.png',\n",
       " 'C101P62ThinF_IMG_20150918_151239_cell_86.png',\n",
       " 'C101P62ThinF_IMG_20150918_151239_cell_87.png',\n",
       " 'C101P62ThinF_IMG_20150918_151239_cell_89.png',\n",
       " 'C101P62ThinF_IMG_20150918_151239_cell_90.png',\n",
       " 'C101P62ThinF_IMG_20150918_151239_cell_91.png',\n",
       " 'C101P62ThinF_IMG_20150918_151239_cell_92.png',\n",
       " 'C101P62ThinF_IMG_20150918_151239_cell_93.png',\n",
       " 'C101P62ThinF_IMG_20150918_151239_cell_94.png',\n",
       " 'C101P62ThinF_IMG_20150918_151239_cell_95.png',\n",
       " 'C101P62ThinF_IMG_20150918_151239_cell_96.png',\n",
       " 'C101P62ThinF_IMG_20150918_151239_cell_97.png',\n",
       " 'C101P62ThinF_IMG_20150918_151239_cell_98.png',\n",
       " 'C101P62ThinF_IMG_20150918_151335_cell_51.png',\n",
       " 'C101P62ThinF_IMG_20150918_151335_cell_52.png',\n",
       " 'C101P62ThinF_IMG_20150918_151335_cell_53.png',\n",
       " 'C101P62ThinF_IMG_20150918_151335_cell_54.png',\n",
       " 'C101P62ThinF_IMG_20150918_151335_cell_55.png',\n",
       " 'C101P62ThinF_IMG_20150918_151335_cell_56.png',\n",
       " 'C101P62ThinF_IMG_20150918_151335_cell_57.png',\n",
       " 'C101P62ThinF_IMG_20150918_151335_cell_59.png',\n",
       " 'C101P62ThinF_IMG_20150918_151335_cell_60.png',\n",
       " 'C101P62ThinF_IMG_20150918_151335_cell_61.png',\n",
       " 'C101P62ThinF_IMG_20150918_151335_cell_62.png',\n",
       " 'C101P62ThinF_IMG_20150918_151335_cell_63.png',\n",
       " 'C101P62ThinF_IMG_20150918_151335_cell_64.png',\n",
       " 'C101P62ThinF_IMG_20150918_151335_cell_65.png',\n",
       " 'C101P62ThinF_IMG_20150918_151335_cell_67.png',\n",
       " 'C101P62ThinF_IMG_20150918_151335_cell_68.png',\n",
       " 'C101P62ThinF_IMG_20150918_151335_cell_69.png',\n",
       " 'C101P62ThinF_IMG_20150918_151335_cell_70.png',\n",
       " 'C101P62ThinF_IMG_20150918_151335_cell_71.png',\n",
       " 'C101P62ThinF_IMG_20150918_151335_cell_72.png',\n",
       " 'C101P62ThinF_IMG_20150918_151335_cell_73.png',\n",
       " 'C101P62ThinF_IMG_20150918_151335_cell_74.png',\n",
       " 'C101P62ThinF_IMG_20150918_151335_cell_75.png',\n",
       " 'C101P62ThinF_IMG_20150918_151335_cell_76.png',\n",
       " 'C101P62ThinF_IMG_20150918_151335_cell_77.png',\n",
       " 'C101P62ThinF_IMG_20150918_151335_cell_78.png',\n",
       " 'C101P62ThinF_IMG_20150918_151507_cell_49.png',\n",
       " 'C101P62ThinF_IMG_20150918_151507_cell_50.png',\n",
       " 'C101P62ThinF_IMG_20150918_151507_cell_51.png',\n",
       " 'C101P62ThinF_IMG_20150918_151507_cell_52.png',\n",
       " 'C101P62ThinF_IMG_20150918_151507_cell_53.png',\n",
       " 'C101P62ThinF_IMG_20150918_151507_cell_54.png',\n",
       " 'C101P62ThinF_IMG_20150918_151507_cell_55.png',\n",
       " 'C101P62ThinF_IMG_20150918_151507_cell_56.png',\n",
       " 'C101P62ThinF_IMG_20150918_151507_cell_57.png',\n",
       " 'C101P62ThinF_IMG_20150918_151507_cell_58.png',\n",
       " 'C101P62ThinF_IMG_20150918_151507_cell_59.png',\n",
       " 'C101P62ThinF_IMG_20150918_151507_cell_61.png',\n",
       " 'C101P62ThinF_IMG_20150918_151507_cell_62.png',\n",
       " 'C101P62ThinF_IMG_20150918_151507_cell_64.png',\n",
       " 'C101P62ThinF_IMG_20150918_151507_cell_66.png',\n",
       " 'C101P62ThinF_IMG_20150918_151507_cell_67.png',\n",
       " 'C101P62ThinF_IMG_20150918_151507_cell_68.png',\n",
       " 'C101P62ThinF_IMG_20150918_151507_cell_69.png',\n",
       " 'C101P62ThinF_IMG_20150918_151507_cell_71.png',\n",
       " 'C101P62ThinF_IMG_20150918_151507_cell_72.png',\n",
       " 'C101P62ThinF_IMG_20150918_151507_cell_74.png',\n",
       " 'C101P62ThinF_IMG_20150918_151507_cell_76.png',\n",
       " 'C101P62ThinF_IMG_20150918_151507_cell_77.png',\n",
       " 'C101P62ThinF_IMG_20150918_151942_cell_58.png',\n",
       " 'C101P62ThinF_IMG_20150918_151942_cell_59.png',\n",
       " 'C101P62ThinF_IMG_20150918_151942_cell_60.png',\n",
       " 'C101P62ThinF_IMG_20150918_151942_cell_61.png',\n",
       " 'C101P62ThinF_IMG_20150918_151942_cell_62.png',\n",
       " 'C101P62ThinF_IMG_20150918_151942_cell_64.png',\n",
       " 'C101P62ThinF_IMG_20150918_151942_cell_66.png',\n",
       " 'C101P62ThinF_IMG_20150918_151942_cell_67.png',\n",
       " 'C101P62ThinF_IMG_20150918_151942_cell_68.png',\n",
       " 'C101P62ThinF_IMG_20150918_151942_cell_69.png',\n",
       " 'C101P62ThinF_IMG_20150918_151942_cell_71.png',\n",
       " 'C101P62ThinF_IMG_20150918_151942_cell_72.png',\n",
       " 'C101P62ThinF_IMG_20150918_151942_cell_73.png',\n",
       " 'C101P62ThinF_IMG_20150918_151942_cell_74.png',\n",
       " 'C101P62ThinF_IMG_20150918_151942_cell_75.png',\n",
       " 'C101P62ThinF_IMG_20150918_151942_cell_76.png',\n",
       " 'C101P62ThinF_IMG_20150918_151942_cell_77.png',\n",
       " 'C101P62ThinF_IMG_20150918_151942_cell_78.png',\n",
       " 'C101P62ThinF_IMG_20150918_151942_cell_79.png',\n",
       " 'C101P62ThinF_IMG_20150918_151942_cell_80.png',\n",
       " 'C101P62ThinF_IMG_20150918_151942_cell_81.png',\n",
       " 'C101P62ThinF_IMG_20150918_151942_cell_82.png',\n",
       " 'C101P62ThinF_IMG_20150918_151942_cell_83.png',\n",
       " 'C101P62ThinF_IMG_20150918_151942_cell_84.png',\n",
       " 'C101P62ThinF_IMG_20150918_151942_cell_85.png',\n",
       " 'C101P62ThinF_IMG_20150918_151942_cell_88.png',\n",
       " 'C101P62ThinF_IMG_20150918_151942_cell_89.png',\n",
       " 'C101P62ThinF_IMG_20150918_151942_cell_90.png',\n",
       " 'C101P62ThinF_IMG_20150918_155026_cell_1.png',\n",
       " 'C101P62ThinF_IMG_20150918_155731_cell_61.png',\n",
       " 'C101P62ThinF_IMG_20150918_155731_cell_63.png',\n",
       " 'C101P62ThinF_IMG_20150918_155731_cell_64.png',\n",
       " 'C101P62ThinF_IMG_20150918_155731_cell_65.png',\n",
       " 'C101P62ThinF_IMG_20150918_155731_cell_68.png',\n",
       " 'C101P62ThinF_IMG_20150918_155731_cell_69.png',\n",
       " 'C101P62ThinF_IMG_20150918_155731_cell_70.png',\n",
       " 'C101P62ThinF_IMG_20150918_155731_cell_71.png',\n",
       " 'C101P62ThinF_IMG_20150918_155731_cell_73.png',\n",
       " 'C101P62ThinF_IMG_20150918_155731_cell_74.png',\n",
       " 'C101P62ThinF_IMG_20150918_155731_cell_75.png',\n",
       " 'C101P62ThinF_IMG_20150918_155731_cell_76.png',\n",
       " 'C101P62ThinF_IMG_20150918_155731_cell_77.png',\n",
       " 'C101P62ThinF_IMG_20150918_155731_cell_78.png',\n",
       " 'C101P62ThinF_IMG_20150918_155731_cell_79.png',\n",
       " 'C101P62ThinF_IMG_20150918_155731_cell_80.png',\n",
       " 'C101P62ThinF_IMG_20150918_155731_cell_81.png',\n",
       " 'C101P62ThinF_IMG_20150918_155731_cell_82.png',\n",
       " 'C101P62ThinF_IMG_20150918_155731_cell_83.png',\n",
       " 'C101P62ThinF_IMG_20150918_155731_cell_84.png',\n",
       " 'C101P62ThinF_IMG_20150923_165215_cell_1.png',\n",
       " 'C101P62ThinF_IMG_20150923_165215_cell_10.png',\n",
       " 'C101P62ThinF_IMG_20150923_165215_cell_11.png',\n",
       " 'C101P62ThinF_IMG_20150923_165215_cell_12.png',\n",
       " 'C101P62ThinF_IMG_20150923_165215_cell_13.png',\n",
       " 'C101P62ThinF_IMG_20150923_165215_cell_14.png',\n",
       " 'C101P62ThinF_IMG_20150923_165215_cell_15.png',\n",
       " 'C101P62ThinF_IMG_20150923_165215_cell_16.png',\n",
       " 'C101P62ThinF_IMG_20150923_165215_cell_17.png',\n",
       " 'C101P62ThinF_IMG_20150923_165215_cell_19.png',\n",
       " 'C101P62ThinF_IMG_20150923_165215_cell_20.png',\n",
       " 'C101P62ThinF_IMG_20150923_165215_cell_21.png',\n",
       " 'C101P62ThinF_IMG_20150923_165215_cell_22.png',\n",
       " 'C101P62ThinF_IMG_20150923_165215_cell_23.png',\n",
       " 'C101P62ThinF_IMG_20150923_165215_cell_24.png',\n",
       " 'C101P62ThinF_IMG_20150923_165215_cell_25.png',\n",
       " 'C101P62ThinF_IMG_20150923_165215_cell_26.png',\n",
       " 'C101P62ThinF_IMG_20150923_165215_cell_27.png',\n",
       " 'C101P62ThinF_IMG_20150923_165215_cell_28.png',\n",
       " 'C101P62ThinF_IMG_20150923_165215_cell_29.png',\n",
       " 'C101P62ThinF_IMG_20150923_165215_cell_3.png',\n",
       " 'C101P62ThinF_IMG_20150923_165215_cell_30.png',\n",
       " 'C101P62ThinF_IMG_20150923_165215_cell_32.png',\n",
       " 'C101P62ThinF_IMG_20150923_165215_cell_33.png',\n",
       " 'C101P62ThinF_IMG_20150923_165215_cell_34.png',\n",
       " 'C101P62ThinF_IMG_20150923_165215_cell_35.png',\n",
       " 'C101P62ThinF_IMG_20150923_165215_cell_37.png',\n",
       " 'C101P62ThinF_IMG_20150923_165215_cell_38.png',\n",
       " 'C101P62ThinF_IMG_20150923_165215_cell_39.png',\n",
       " 'C101P62ThinF_IMG_20150923_165215_cell_4.png',\n",
       " 'C101P62ThinF_IMG_20150923_165215_cell_40.png',\n",
       " 'C101P62ThinF_IMG_20150923_165215_cell_41.png',\n",
       " 'C101P62ThinF_IMG_20150923_165215_cell_5.png',\n",
       " 'C101P62ThinF_IMG_20150923_165215_cell_6.png',\n",
       " 'C101P62ThinF_IMG_20150923_165215_cell_7.png',\n",
       " 'C101P62ThinF_IMG_20150923_165215_cell_8.png',\n",
       " 'C101P62ThinF_IMG_20150923_165215_cell_9.png',\n",
       " 'C101P62ThinF_IMG_20150923_170110_cell_1.png',\n",
       " 'C101P62ThinF_IMG_20150923_170110_cell_10.png',\n",
       " 'C101P62ThinF_IMG_20150923_170110_cell_11.png',\n",
       " 'C101P62ThinF_IMG_20150923_170110_cell_12.png',\n",
       " 'C101P62ThinF_IMG_20150923_170110_cell_14.png',\n",
       " 'C101P62ThinF_IMG_20150923_170110_cell_15.png',\n",
       " 'C101P62ThinF_IMG_20150923_170110_cell_16.png',\n",
       " 'C101P62ThinF_IMG_20150923_170110_cell_17.png',\n",
       " 'C101P62ThinF_IMG_20150923_170110_cell_18.png',\n",
       " 'C101P62ThinF_IMG_20150923_170110_cell_19.png',\n",
       " 'C101P62ThinF_IMG_20150923_170110_cell_2.png',\n",
       " 'C101P62ThinF_IMG_20150923_170110_cell_20.png',\n",
       " 'C101P62ThinF_IMG_20150923_170110_cell_21.png',\n",
       " 'C101P62ThinF_IMG_20150923_170110_cell_22.png',\n",
       " 'C101P62ThinF_IMG_20150923_170110_cell_23.png',\n",
       " 'C101P62ThinF_IMG_20150923_170110_cell_24.png',\n",
       " 'C101P62ThinF_IMG_20150923_170110_cell_3.png',\n",
       " 'C101P62ThinF_IMG_20150923_170110_cell_4.png',\n",
       " 'C101P62ThinF_IMG_20150923_170110_cell_5.png',\n",
       " 'C101P62ThinF_IMG_20150923_170110_cell_6.png',\n",
       " 'C101P62ThinF_IMG_20150923_170110_cell_7.png',\n",
       " 'C101P62ThinF_IMG_20150923_170110_cell_8.png',\n",
       " 'C101P62ThinF_IMG_20150923_170110_cell_9.png',\n",
       " 'C101P62ThinF_IMG_20150923_170246_cell_62.png',\n",
       " 'C101P62ThinF_IMG_20150923_170246_cell_63.png',\n",
       " 'C101P62ThinF_IMG_20150923_170246_cell_64.png',\n",
       " 'C101P62ThinF_IMG_20150923_170246_cell_65.png',\n",
       " 'C101P62ThinF_IMG_20150923_170246_cell_66.png',\n",
       " 'C101P62ThinF_IMG_20150923_170246_cell_67.png',\n",
       " 'C101P62ThinF_IMG_20150923_170246_cell_68.png',\n",
       " 'C101P62ThinF_IMG_20150923_170246_cell_70.png',\n",
       " 'C101P62ThinF_IMG_20150923_170246_cell_71.png',\n",
       " 'C101P62ThinF_IMG_20150923_170246_cell_72.png',\n",
       " 'C101P62ThinF_IMG_20150923_170246_cell_74.png',\n",
       " 'C101P62ThinF_IMG_20150923_170246_cell_75.png',\n",
       " 'C101P62ThinF_IMG_20150923_170246_cell_76.png',\n",
       " 'C101P62ThinF_IMG_20150923_170246_cell_77.png',\n",
       " 'C101P62ThinF_IMG_20150923_170246_cell_78.png',\n",
       " 'C101P62ThinF_IMG_20150923_170246_cell_79.png',\n",
       " 'C101P62ThinF_IMG_20150923_170246_cell_80.png',\n",
       " 'C101P62ThinF_IMG_20150923_170246_cell_81.png',\n",
       " 'C101P62ThinF_IMG_20150923_170246_cell_82.png',\n",
       " 'C101P62ThinF_IMG_20150923_170246_cell_83.png',\n",
       " 'C101P62ThinF_IMG_20150923_170246_cell_84.png',\n",
       " 'C101P62ThinF_IMG_20150923_170246_cell_85.png',\n",
       " 'C101P62ThinF_IMG_20150923_170246_cell_87.png',\n",
       " 'C101P62ThinF_IMG_20150923_170246_cell_88.png',\n",
       " 'C101P62ThinF_IMG_20150923_170246_cell_89.png',\n",
       " 'C101P62ThinF_IMG_20150923_170246_cell_90.png',\n",
       " 'C101P62ThinF_IMG_20150923_170344_cell_100.png',\n",
       " 'C101P62ThinF_IMG_20150923_170344_cell_71.png',\n",
       " 'C101P62ThinF_IMG_20150923_170344_cell_72.png',\n",
       " 'C101P62ThinF_IMG_20150923_170344_cell_73.png',\n",
       " 'C101P62ThinF_IMG_20150923_170344_cell_74.png',\n",
       " 'C101P62ThinF_IMG_20150923_170344_cell_75.png',\n",
       " 'C101P62ThinF_IMG_20150923_170344_cell_76.png',\n",
       " 'C101P62ThinF_IMG_20150923_170344_cell_77.png',\n",
       " 'C101P62ThinF_IMG_20150923_170344_cell_78.png',\n",
       " 'C101P62ThinF_IMG_20150923_170344_cell_79.png',\n",
       " 'C101P62ThinF_IMG_20150923_170344_cell_80.png',\n",
       " 'C101P62ThinF_IMG_20150923_170344_cell_81.png',\n",
       " 'C101P62ThinF_IMG_20150923_170344_cell_82.png',\n",
       " 'C101P62ThinF_IMG_20150923_170344_cell_84.png',\n",
       " 'C101P62ThinF_IMG_20150923_170344_cell_86.png',\n",
       " 'C101P62ThinF_IMG_20150923_170344_cell_87.png',\n",
       " 'C101P62ThinF_IMG_20150923_170344_cell_88.png',\n",
       " 'C101P62ThinF_IMG_20150923_170344_cell_89.png',\n",
       " 'C101P62ThinF_IMG_20150923_170344_cell_90.png',\n",
       " 'C101P62ThinF_IMG_20150923_170344_cell_91.png',\n",
       " 'C101P62ThinF_IMG_20150923_170344_cell_92.png',\n",
       " 'C101P62ThinF_IMG_20150923_170344_cell_93.png',\n",
       " 'C101P62ThinF_IMG_20150923_170344_cell_94.png',\n",
       " 'C101P62ThinF_IMG_20150923_170344_cell_95.png',\n",
       " 'C101P62ThinF_IMG_20150923_170344_cell_97.png',\n",
       " 'C101P62ThinF_IMG_20150923_170344_cell_98.png',\n",
       " 'C102P63ThinF_IMG_20150918_161508_cell_190.png',\n",
       " 'C102P63ThinF_IMG_20150918_161508_cell_191.png',\n",
       " 'C102P63ThinF_IMG_20150918_161508_cell_192.png',\n",
       " 'C102P63ThinF_IMG_20150918_161508_cell_193.png',\n",
       " 'C102P63ThinF_IMG_20150918_161508_cell_194.png',\n",
       " 'C102P63ThinF_IMG_20150918_161508_cell_195.png',\n",
       " 'C102P63ThinF_IMG_20150918_161826_cell_170.png',\n",
       " 'C102P63ThinF_IMG_20150918_161826_cell_171.png',\n",
       " 'C102P63ThinF_IMG_20150918_161826_cell_172.png',\n",
       " 'C102P63ThinF_IMG_20150918_162051_cell_141.png',\n",
       " 'C102P63ThinF_IMG_20150918_162051_cell_142.png',\n",
       " 'C102P63ThinF_IMG_20150918_162051_cell_143.png',\n",
       " 'C102P63ThinF_IMG_20150918_162051_cell_144.png',\n",
       " 'C102P63ThinF_IMG_20150918_162051_cell_145.png',\n",
       " 'C102P63ThinF_IMG_20150918_162051_cell_146.png',\n",
       " 'C102P63ThinF_IMG_20150918_162051_cell_147.png',\n",
       " 'C102P63ThinF_IMG_20150918_162155_cell_132.png',\n",
       " 'C102P63ThinF_IMG_20150918_162155_cell_133.png',\n",
       " 'C102P63ThinF_IMG_20150918_162300_cell_180.png',\n",
       " 'C102P63ThinF_IMG_20150918_162300_cell_181.png',\n",
       " 'C102P63ThinF_IMG_20150918_162300_cell_182.png',\n",
       " 'C102P63ThinF_IMG_20150918_162511_cell_169.png',\n",
       " 'C102P63ThinF_IMG_20150918_162511_cell_170.png',\n",
       " 'C102P63ThinF_IMG_20150918_162511_cell_171.png',\n",
       " 'C102P63ThinF_IMG_20150918_162511_cell_172.png',\n",
       " 'C102P63ThinF_IMG_20150918_162511_cell_173.png',\n",
       " 'C102P63ThinF_IMG_20150918_162927_cell_1.png',\n",
       " 'C102P63ThinF_IMG_20150918_162927_cell_2.png',\n",
       " 'C102P63ThinF_IMG_20150918_162927_cell_3.png',\n",
       " 'C102P63ThinF_IMG_20150918_162927_cell_4.png',\n",
       " 'C102P63ThinF_IMG_20150918_162927_cell_5.png',\n",
       " 'C102P63ThinF_IMG_20150918_163054_cell_167.png',\n",
       " 'C102P63ThinF_IMG_20150918_163054_cell_168.png',\n",
       " 'C102P63ThinF_IMG_20150918_163054_cell_169.png',\n",
       " 'C102P63ThinF_IMG_20150918_163054_cell_170.png',\n",
       " 'C103P64ThinF_IMG_20150918_164250_cell_170.png',\n",
       " 'C103P64ThinF_IMG_20150918_164250_cell_172.png',\n",
       " 'C103P64ThinF_IMG_20150918_164250_cell_173.png',\n",
       " 'C103P64ThinF_IMG_20150918_164250_cell_174.png',\n",
       " 'C103P64ThinF_IMG_20150918_164331_cell_185.png',\n",
       " 'C103P64ThinF_IMG_20150918_164331_cell_186.png',\n",
       " 'C103P64ThinF_IMG_20150918_164331_cell_187.png',\n",
       " 'C103P64ThinF_IMG_20150918_164553_cell_167.png',\n",
       " 'C103P64ThinF_IMG_20150918_164553_cell_168.png',\n",
       " 'C103P64ThinF_IMG_20150918_164553_cell_169.png',\n",
       " 'C103P64ThinF_IMG_20150918_164553_cell_170.png',\n",
       " 'C103P64ThinF_IMG_20150918_164553_cell_172.png',\n",
       " 'C103P64ThinF_IMG_20150918_164553_cell_173.png',\n",
       " 'C103P64ThinF_IMG_20150918_165016_cell_158.png',\n",
       " 'C103P64ThinF_IMG_20150918_165016_cell_159.png',\n",
       " 'C103P64ThinF_IMG_20150918_165016_cell_160.png',\n",
       " 'C103P64ThinF_IMG_20150918_165016_cell_161.png',\n",
       " 'C103P64ThinF_IMG_20150918_165016_cell_162.png',\n",
       " 'C103P64ThinF_IMG_20150918_165125_cell_163.png',\n",
       " 'C103P64ThinF_IMG_20150918_165125_cell_164.png',\n",
       " 'C103P64ThinF_IMG_20150918_165125_cell_165.png',\n",
       " 'C103P64ThinF_IMG_20150918_165125_cell_166.png',\n",
       " 'C103P64ThinF_IMG_20150918_165510_cell_176.png',\n",
       " 'C103P64ThinF_IMG_20150918_165510_cell_177.png',\n",
       " 'C103P64ThinF_IMG_20150918_165510_cell_178.png',\n",
       " 'C103P64ThinF_IMG_20150918_165510_cell_179.png',\n",
       " 'C103P64ThinF_IMG_20150918_165510_cell_180.png',\n",
       " 'C103P64ThinF_IMG_20150918_165510_cell_181.png',\n",
       " 'C103P64ThinF_IMG_20150918_165510_cell_182.png',\n",
       " 'C103P64ThinF_IMG_20150918_165510_cell_183.png',\n",
       " 'C103P64ThinF_IMG_20150918_165510_cell_184.png',\n",
       " 'C103P64ThinF_IMG_20150918_165510_cell_185.png',\n",
       " 'C103P64ThinF_IMG_20150918_165510_cell_186.png',\n",
       " 'C103P64ThinF_IMG_20150918_165510_cell_188.png',\n",
       " 'C104P65ThinF_IMG_20150918_170850_cell_204.png',\n",
       " 'C104P65ThinF_IMG_20150918_171154_cell_212.png',\n",
       " 'C104P65ThinF_IMG_20150918_171154_cell_213.png',\n",
       " 'C104P65ThinF_IMG_20150918_171751_cell_186.png',\n",
       " 'C104P65ThinF_IMG_20150918_171751_cell_187.png',\n",
       " 'C104P65ThinF_IMG_20150918_172053_cell_187.png',\n",
       " 'C104P65ThinF_IMG_20150918_172537_cell_149.png',\n",
       " 'C104P65ThinF_IMG_20150918_172639_cell_182.png',\n",
       " 'C104P65ThinF_IMG_20150918_172639_cell_184.png',\n",
       " 'C105P66ThinF_IMG_20150924_094800_cell_136.png',\n",
       " 'C105P66ThinF_IMG_20150924_094800_cell_137.png',\n",
       " 'C105P66ThinF_IMG_20150924_095034_cell_148.png',\n",
       " 'C105P66ThinF_IMG_20150924_095034_cell_149.png',\n",
       " 'C105P66ThinF_IMG_20150924_095034_cell_150.png',\n",
       " 'C105P66ThinF_IMG_20150924_095130_cell_155.png',\n",
       " 'C105P66ThinF_IMG_20150924_095130_cell_156.png',\n",
       " 'C105P66ThinF_IMG_20150924_095130_cell_157.png',\n",
       " 'C105P66ThinF_IMG_20150924_095130_cell_158.png',\n",
       " 'C105P66ThinF_IMG_20150924_095633_cell_126.png',\n",
       " 'C105P66ThinF_IMG_20150924_095716_cell_113.png',\n",
       " 'C105P66ThinF_IMG_20150924_095716_cell_114.png',\n",
       " 'C105P66ThinF_IMG_20150924_095913_cell_117.png',\n",
       " 'C105P66ThinF_IMG_20150924_095913_cell_118.png',\n",
       " 'C105P66ThinF_IMG_20150924_100655_cell_123.png',\n",
       " 'C105P66ThinF_IMG_20150924_100655_cell_124.png',\n",
       " 'C105P66ThinF_IMG_20150924_100655_cell_125.png',\n",
       " 'C106P67ThinF_IMG_20150924_102245_cell_164.png',\n",
       " 'C106P67ThinF_IMG_20150924_102245_cell_165.png',\n",
       " 'C106P67ThinF_IMG_20150924_102245_cell_166.png',\n",
       " 'C106P67ThinF_IMG_20150924_102413_cell_190.png',\n",
       " 'C106P67ThinF_IMG_20150924_102826_cell_143.png',\n",
       " 'C106P67ThinF_IMG_20150924_103245_cell_143.png',\n",
       " 'C106P67ThinF_IMG_20150924_103811_cell_180.png',\n",
       " 'C106P67ThinF_IMG_20150924_103811_cell_181.png',\n",
       " 'C106P67ThinF_IMG_20150924_103811_cell_182.png',\n",
       " 'C106P67ThinF_IMG_20150924_103811_cell_183.png',\n",
       " 'C106P67ThinF_IMG_20150924_104044_cell_167.png',\n",
       " 'C106P67ThinF_IMG_20150924_104044_cell_168.png',\n",
       " 'C107P68ThinF_IMG_20150924_221632_cell_169.png',\n",
       " 'C107P68ThinF_IMG_20150924_221632_cell_170.png',\n",
       " 'C107P68ThinF_IMG_20150924_221632_cell_172.png',\n",
       " 'C107P68ThinF_IMG_20150924_221632_cell_173.png',\n",
       " 'C107P68ThinF_IMG_20150924_221632_cell_174.png',\n",
       " 'C107P68ThinF_IMG_20150924_221632_cell_175.png',\n",
       " 'C107P68ThinF_IMG_20150924_221632_cell_176.png',\n",
       " 'C107P68ThinF_IMG_20150924_221632_cell_177.png',\n",
       " 'C107P68ThinF_IMG_20150924_221632_cell_178.png',\n",
       " 'C107P68ThinF_IMG_20150924_221632_cell_179.png',\n",
       " 'C107P68ThinF_IMG_20150924_221632_cell_180.png',\n",
       " 'C107P68ThinF_IMG_20150924_221909_cell_156.png',\n",
       " 'C107P68ThinF_IMG_20150924_221909_cell_159.png',\n",
       " 'C107P68ThinF_IMG_20150924_221909_cell_160.png',\n",
       " 'C107P68ThinF_IMG_20150924_221909_cell_161.png',\n",
       " 'C107P68ThinF_IMG_20150924_221909_cell_162.png',\n",
       " 'C107P68ThinF_IMG_20150924_221909_cell_163.png',\n",
       " 'C107P68ThinF_IMG_20150924_222233_cell_150.png',\n",
       " 'C107P68ThinF_IMG_20150924_222233_cell_151.png',\n",
       " 'C107P68ThinF_IMG_20150924_222233_cell_153.png',\n",
       " 'C107P68ThinF_IMG_20150924_222233_cell_154.png',\n",
       " 'C107P68ThinF_IMG_20150924_222233_cell_156.png',\n",
       " 'C107P68ThinF_IMG_20150924_222233_cell_157.png',\n",
       " 'C107P68ThinF_IMG_20150924_222233_cell_158.png',\n",
       " 'C107P68ThinF_IMG_20150924_222233_cell_159.png',\n",
       " 'C107P68ThinF_IMG_20150924_222233_cell_160.png',\n",
       " 'C107P68ThinF_IMG_20150924_222233_cell_161.png',\n",
       " 'C107P68ThinF_IMG_20150924_222233_cell_162.png',\n",
       " 'C107P68ThinF_IMG_20150924_222233_cell_163.png',\n",
       " 'C107P68ThinF_IMG_20150924_222415_cell_172.png',\n",
       " 'C107P68ThinF_IMG_20150924_222415_cell_173.png',\n",
       " 'C107P68ThinF_IMG_20150924_222415_cell_174.png',\n",
       " 'C107P68ThinF_IMG_20150924_222415_cell_175.png',\n",
       " 'C107P68ThinF_IMG_20150924_222415_cell_176.png',\n",
       " 'C107P68ThinF_IMG_20150924_222415_cell_177.png',\n",
       " 'C107P68ThinF_IMG_20150924_222415_cell_178.png',\n",
       " 'C107P68ThinF_IMG_20150924_222415_cell_179.png',\n",
       " 'C107P68ThinF_IMG_20150924_222415_cell_180.png',\n",
       " 'C107P68ThinF_IMG_20150924_222415_cell_181.png',\n",
       " 'C107P68ThinF_IMG_20150924_222415_cell_182.png',\n",
       " 'C107P68ThinF_IMG_20150924_222415_cell_183.png',\n",
       " 'C107P68ThinF_IMG_20150924_222535_cell_139.png',\n",
       " 'C107P68ThinF_IMG_20150924_222535_cell_140.png',\n",
       " 'C107P68ThinF_IMG_20150924_222535_cell_141.png',\n",
       " 'C107P68ThinF_IMG_20150924_222535_cell_142.png',\n",
       " 'C107P68ThinF_IMG_20150924_222535_cell_143.png',\n",
       " 'C107P68ThinF_IMG_20150924_222535_cell_144.png',\n",
       " 'C107P68ThinF_IMG_20150924_222535_cell_145.png',\n",
       " 'C107P68ThinF_IMG_20150924_222535_cell_146.png',\n",
       " 'C107P68ThinF_IMG_20150924_222535_cell_147.png',\n",
       " 'C107P68ThinF_IMG_20150924_222535_cell_148.png',\n",
       " 'C107P68ThinF_IMG_20150924_222630_cell_174.png',\n",
       " 'C107P68ThinF_IMG_20150924_222630_cell_175.png',\n",
       " 'C107P68ThinF_IMG_20150924_222630_cell_176.png',\n",
       " 'C107P68ThinF_IMG_20150924_222630_cell_177.png',\n",
       " 'C108P69ThinF_IMG_20150924_223834_cell_218.png',\n",
       " 'C108P69ThinF_IMG_20150924_223834_cell_219.png',\n",
       " 'C108P69ThinF_IMG_20150924_223834_cell_220.png',\n",
       " 'C108P69ThinF_IMG_20150924_223834_cell_221.png',\n",
       " 'C108P69ThinF_IMG_20150924_224038_cell_188.png',\n",
       " 'C108P69ThinF_IMG_20150924_224038_cell_189.png',\n",
       " 'C108P69ThinF_IMG_20150924_224038_cell_190.png',\n",
       " 'C108P69ThinF_IMG_20150924_224616_cell_195.png',\n",
       " 'C108P69ThinF_IMG_20150924_224616_cell_196.png',\n",
       " 'C108P69ThinF_IMG_20150924_224616_cell_197.png',\n",
       " 'C108P69ThinF_IMG_20150924_224616_cell_198.png',\n",
       " 'C108P69ThinF_IMG_20150924_224909_cell_226.png',\n",
       " 'C108P69ThinF_IMG_20150924_225004_cell_221.png',\n",
       " 'C108P69ThinF_IMG_20150924_225004_cell_222.png',\n",
       " 'C108P69ThinF_IMG_20150924_225004_cell_223.png',\n",
       " 'C108P69ThinF_IMG_20150924_225004_cell_224.png',\n",
       " 'C108P69ThinF_IMG_20150924_225004_cell_225.png',\n",
       " 'C108P69ThinF_IMG_20150924_225511_cell_182.png',\n",
       " 'C108P69ThinF_IMG_20150924_225511_cell_183.png',\n",
       " 'C108P69ThinF_IMG_20150924_225511_cell_184.png',\n",
       " 'C109P70ThinF_IMG_20150930_102716_cell_185.png',\n",
       " 'C109P70ThinF_IMG_20150930_102716_cell_186.png',\n",
       " 'C109P70ThinF_IMG_20150930_102716_cell_187.png',\n",
       " 'C109P70ThinF_IMG_20150930_102944_cell_171.png',\n",
       " 'C109P70ThinF_IMG_20150930_102944_cell_172.png',\n",
       " 'C109P70ThinF_IMG_20150930_103113_cell_160.png',\n",
       " 'C109P70ThinF_IMG_20150930_103113_cell_162.png',\n",
       " 'C109P70ThinF_IMG_20150930_103214_cell_182.png',\n",
       " 'C109P70ThinF_IMG_20150930_103214_cell_183.png',\n",
       " 'C109P70ThinF_IMG_20150930_103214_cell_184.png',\n",
       " 'C109P70ThinF_IMG_20150930_103214_cell_185.png',\n",
       " 'C109P70ThinF_IMG_20150930_103645_cell_172.png',\n",
       " 'C109P70ThinF_IMG_20150930_103645_cell_173.png',\n",
       " 'C109P70ThinF_IMG_20150930_103645_cell_174.png',\n",
       " 'C109P70ThinF_IMG_20150930_103645_cell_175.png',\n",
       " 'C109P70ThinF_IMG_20150930_103811_cell_157.png',\n",
       " 'C109P70ThinF_IMG_20150930_103811_cell_158.png',\n",
       " 'C110P71ThinF_IMG_20150930_105319_cell_185.png',\n",
       " 'C110P71ThinF_IMG_20150930_105319_cell_186.png',\n",
       " 'C110P71ThinF_IMG_20150930_105319_cell_187.png',\n",
       " 'C110P71ThinF_IMG_20150930_105319_cell_188.png',\n",
       " 'C110P71ThinF_IMG_20150930_105319_cell_189.png',\n",
       " 'C110P71ThinF_IMG_20150930_105319_cell_190.png',\n",
       " 'C110P71ThinF_IMG_20150930_105559_cell_199.png',\n",
       " 'C110P71ThinF_IMG_20150930_105559_cell_200.png',\n",
       " 'C110P71ThinF_IMG_20150930_105559_cell_201.png',\n",
       " 'C110P71ThinF_IMG_20150930_105559_cell_202.png',\n",
       " 'C110P71ThinF_IMG_20150930_105729_cell_207.png',\n",
       " 'C110P71ThinF_IMG_20150930_105925_cell_221.png',\n",
       " 'C110P71ThinF_IMG_20150930_110052_cell_238.png',\n",
       " 'C110P71ThinF_IMG_20150930_110052_cell_239.png',\n",
       " 'C110P71ThinF_IMG_20150930_110052_cell_240.png',\n",
       " 'C110P71ThinF_IMG_20150930_110052_cell_241.png',\n",
       " 'C110P71ThinF_IMG_20150930_110052_cell_242.png',\n",
       " 'C110P71ThinF_IMG_20150930_110052_cell_243.png',\n",
       " 'C110P71ThinF_IMG_20150930_110404_cell_157.png',\n",
       " 'C110P71ThinF_IMG_20150930_110404_cell_158.png',\n",
       " 'C110P71ThinF_IMG_20150930_110404_cell_159.png',\n",
       " 'C110P71ThinF_IMG_20150930_110404_cell_160.png',\n",
       " 'C111P72ThinF_IMG_20150930_112430_cell_191.png',\n",
       " 'C111P72ThinF_IMG_20150930_112430_cell_192.png',\n",
       " 'C111P72ThinF_IMG_20150930_112430_cell_193.png',\n",
       " 'C111P72ThinF_IMG_20150930_112609_cell_169.png',\n",
       " 'C111P72ThinF_IMG_20150930_112609_cell_170.png',\n",
       " 'C111P72ThinF_IMG_20150930_112827_cell_176.png',\n",
       " 'C111P72ThinF_IMG_20150930_112827_cell_177.png',\n",
       " 'C111P72ThinF_IMG_20150930_112827_cell_178.png',\n",
       " 'C111P72ThinF_IMG_20150930_112827_cell_179.png',\n",
       " 'C111P72ThinF_IMG_20150930_113003_cell_182.png',\n",
       " 'C111P72ThinF_IMG_20150930_113049_cell_162.png',\n",
       " 'C111P72ThinF_IMG_20150930_113049_cell_163.png',\n",
       " 'C111P72ThinF_IMG_20150930_113049_cell_164.png',\n",
       " 'C111P72ThinF_IMG_20150930_113049_cell_165.png',\n",
       " 'C111P72ThinF_IMG_20150930_113049_cell_166.png',\n",
       " 'C111P72ThinF_IMG_20150930_113210_cell_171.png',\n",
       " 'C111P72ThinF_IMG_20150930_113610_cell_202.png',\n",
       " 'C111P72ThinF_IMG_20150930_113610_cell_203.png',\n",
       " 'C112P73ThinF_IMG_20150930_131254_cell_184.png',\n",
       " 'C112P73ThinF_IMG_20150930_131401_cell_165.png',\n",
       " 'C112P73ThinF_IMG_20150930_131401_cell_166.png',\n",
       " 'C112P73ThinF_IMG_20150930_131401_cell_167.png',\n",
       " 'C112P73ThinF_IMG_20150930_131401_cell_168.png',\n",
       " 'C112P73ThinF_IMG_20150930_131516_cell_177.png',\n",
       " 'C112P73ThinF_IMG_20150930_131516_cell_178.png',\n",
       " 'C112P73ThinF_IMG_20150930_131605_cell_181.png',\n",
       " 'C112P73ThinF_IMG_20150930_131605_cell_182.png',\n",
       " 'C112P73ThinF_IMG_20150930_131605_cell_183.png',\n",
       " 'C112P73ThinF_IMG_20150930_131659_cell_193.png',\n",
       " 'C112P73ThinF_IMG_20150930_131753_cell_167.png',\n",
       " 'C112P73ThinF_IMG_20150930_131900_cell_174.png',\n",
       " 'C112P73ThinF_IMG_20150930_131900_cell_175.png',\n",
       " 'C113P74ThinF_IMG_20150930_134355_cell_165.png',\n",
       " 'C113P74ThinF_IMG_20150930_134355_cell_166.png',\n",
       " 'C113P74ThinF_IMG_20150930_134355_cell_167.png',\n",
       " 'C113P74ThinF_IMG_20150930_134355_cell_168.png',\n",
       " 'C113P74ThinF_IMG_20150930_134355_cell_169.png',\n",
       " 'C113P74ThinF_IMG_20150930_134355_cell_170.png',\n",
       " 'C113P74ThinF_IMG_20150930_134355_cell_171.png',\n",
       " 'C113P74ThinF_IMG_20150930_134429_cell_176.png',\n",
       " 'C113P74ThinF_IMG_20150930_134429_cell_177.png',\n",
       " 'C113P74ThinF_IMG_20150930_134429_cell_178.png',\n",
       " 'C113P74ThinF_IMG_20150930_134429_cell_179.png',\n",
       " 'C113P74ThinF_IMG_20150930_134429_cell_180.png',\n",
       " 'C113P74ThinF_IMG_20150930_134429_cell_181.png',\n",
       " 'C113P74ThinF_IMG_20150930_134429_cell_182.png',\n",
       " 'C113P74ThinF_IMG_20150930_134429_cell_183.png',\n",
       " 'C113P74ThinF_IMG_20150930_134429_cell_184.png',\n",
       " 'C113P74ThinF_IMG_20150930_134614_cell_169.png',\n",
       " 'C113P74ThinF_IMG_20150930_134614_cell_170.png',\n",
       " 'C113P74ThinF_IMG_20150930_134614_cell_171.png',\n",
       " 'C113P74ThinF_IMG_20150930_134614_cell_174.png',\n",
       " 'C113P74ThinF_IMG_20150930_134614_cell_175.png',\n",
       " 'C113P74ThinF_IMG_20150930_134614_cell_176.png',\n",
       " 'C113P74ThinF_IMG_20150930_134751_cell_173.png',\n",
       " 'C113P74ThinF_IMG_20150930_134751_cell_174.png',\n",
       " 'C113P74ThinF_IMG_20150930_134751_cell_176.png',\n",
       " 'C113P74ThinF_IMG_20150930_134751_cell_177.png',\n",
       " 'C113P74ThinF_IMG_20150930_134751_cell_179.png',\n",
       " 'C113P74ThinF_IMG_20150930_134751_cell_180.png',\n",
       " 'C113P74ThinF_IMG_20150930_134751_cell_181.png',\n",
       " 'C113P74ThinF_IMG_20150930_134949_cell_158.png',\n",
       " 'C113P74ThinF_IMG_20150930_134949_cell_159.png',\n",
       " 'C113P74ThinF_IMG_20150930_134949_cell_160.png',\n",
       " 'C113P74ThinF_IMG_20150930_134949_cell_162.png',\n",
       " 'C113P74ThinF_IMG_20150930_135904_cell_180.png',\n",
       " 'C113P74ThinF_IMG_20150930_135904_cell_181.png',\n",
       " 'C113P74ThinF_IMG_20150930_135904_cell_182.png',\n",
       " 'C113P74ThinF_IMG_20150930_135904_cell_183.png',\n",
       " 'C113P74ThinF_IMG_20150930_135904_cell_184.png',\n",
       " 'C113P74ThinF_IMG_20150930_135904_cell_185.png',\n",
       " 'C113P74ThinF_IMG_20150930_135904_cell_187.png',\n",
       " 'C113P74ThinF_IMG_20150930_135904_cell_188.png',\n",
       " 'C113P74ThinF_IMG_20150930_135904_cell_189.png',\n",
       " 'C113P74ThinF_IMG_20150930_140646_cell_181.png',\n",
       " 'C113P74ThinF_IMG_20150930_140646_cell_182.png',\n",
       " 'C113P74ThinF_IMG_20150930_140646_cell_183.png',\n",
       " 'C113P74ThinF_IMG_20150930_140646_cell_184.png',\n",
       " 'C113P74ThinF_IMG_20150930_140646_cell_185.png',\n",
       " 'C113P74ThinF_IMG_20150930_140646_cell_186.png',\n",
       " 'C113P74ThinF_IMG_20150930_140646_cell_187.png',\n",
       " 'C113P74ThinF_IMG_20150930_140646_cell_188.png',\n",
       " 'C113P74ThinF_IMG_20150930_140646_cell_190.png',\n",
       " 'C114P75ThinF_IMG_20150930_150013_cell_195.png',\n",
       " 'C114P75ThinF_IMG_20150930_150013_cell_196.png',\n",
       " 'C114P75ThinF_IMG_20150930_150057_cell_172.png',\n",
       " 'C114P75ThinF_IMG_20150930_150145_cell_159.png',\n",
       " 'C114P75ThinF_IMG_20150930_150145_cell_160.png',\n",
       " 'C114P75ThinF_IMG_20150930_150555_cell_145.png',\n",
       " 'C114P75ThinF_IMG_20150930_150733_cell_149.png',\n",
       " 'C114P75ThinF_IMG_20150930_150733_cell_150.png',\n",
       " 'C114P75ThinF_IMG_20150930_150833_cell_164.png',\n",
       " 'C114P75ThinF_IMG_20150930_150833_cell_165.png',\n",
       " 'C114P75ThinF_IMG_20150930_151150_cell_177.png',\n",
       " 'C114P75ThinF_IMG_20150930_151150_cell_178.png',\n",
       " 'C114P75ThinF_IMG_20150930_151150_cell_179.png',\n",
       " 'C115P76ThinF_IMG_20150930_161825_cell_219.png',\n",
       " 'C115P76ThinF_IMG_20150930_161825_cell_221.png',\n",
       " 'C115P76ThinF_IMG_20150930_162038_cell_206.png',\n",
       " 'C115P76ThinF_IMG_20150930_162038_cell_207.png',\n",
       " 'C115P76ThinF_IMG_20150930_162038_cell_208.png',\n",
       " 'C115P76ThinF_IMG_20150930_162038_cell_209.png',\n",
       " 'C115P76ThinF_IMG_20150930_162038_cell_210.png',\n",
       " 'C115P76ThinF_IMG_20150930_162315_cell_256.png',\n",
       " 'C115P76ThinF_IMG_20150930_162315_cell_257.png',\n",
       " 'C115P76ThinF_IMG_20150930_163018_cell_252.png',\n",
       " 'C115P76ThinF_IMG_20150930_163156_cell_242.png',\n",
       " 'C115P76ThinF_IMG_20150930_163156_cell_243.png',\n",
       " 'C116P77ThinF_IMG_20150930_171219_cell_100.png',\n",
       " 'C116P77ThinF_IMG_20150930_171219_cell_101.png',\n",
       " 'C116P77ThinF_IMG_20150930_171219_cell_102.png',\n",
       " 'C116P77ThinF_IMG_20150930_171219_cell_104.png',\n",
       " 'C116P77ThinF_IMG_20150930_171219_cell_105.png',\n",
       " 'C116P77ThinF_IMG_20150930_171219_cell_106.png',\n",
       " 'C116P77ThinF_IMG_20150930_171219_cell_107.png',\n",
       " 'C116P77ThinF_IMG_20150930_171219_cell_109.png',\n",
       " 'C116P77ThinF_IMG_20150930_171219_cell_110.png',\n",
       " 'C116P77ThinF_IMG_20150930_171219_cell_111.png',\n",
       " 'C116P77ThinF_IMG_20150930_171219_cell_114.png',\n",
       " 'C116P77ThinF_IMG_20150930_171219_cell_76.png',\n",
       " 'C116P77ThinF_IMG_20150930_171219_cell_78.png',\n",
       " 'C116P77ThinF_IMG_20150930_171219_cell_79.png',\n",
       " 'C116P77ThinF_IMG_20150930_171219_cell_80.png',\n",
       " 'C116P77ThinF_IMG_20150930_171219_cell_81.png',\n",
       " 'C116P77ThinF_IMG_20150930_171219_cell_82.png',\n",
       " 'C116P77ThinF_IMG_20150930_171219_cell_83.png',\n",
       " 'C116P77ThinF_IMG_20150930_171219_cell_84.png',\n",
       " 'C116P77ThinF_IMG_20150930_171219_cell_85.png',\n",
       " 'C116P77ThinF_IMG_20150930_171219_cell_86.png',\n",
       " 'C116P77ThinF_IMG_20150930_171219_cell_87.png',\n",
       " 'C116P77ThinF_IMG_20150930_171219_cell_89.png',\n",
       " 'C116P77ThinF_IMG_20150930_171219_cell_90.png',\n",
       " 'C116P77ThinF_IMG_20150930_171219_cell_91.png',\n",
       " 'C116P77ThinF_IMG_20150930_171219_cell_92.png',\n",
       " 'C116P77ThinF_IMG_20150930_171219_cell_93.png',\n",
       " 'C116P77ThinF_IMG_20150930_171219_cell_94.png',\n",
       " 'C116P77ThinF_IMG_20150930_171219_cell_95.png',\n",
       " 'C116P77ThinF_IMG_20150930_171219_cell_96.png',\n",
       " 'C116P77ThinF_IMG_20150930_171219_cell_97.png',\n",
       " 'C116P77ThinF_IMG_20150930_171219_cell_98.png',\n",
       " 'C116P77ThinF_IMG_20150930_171219_cell_99.png',\n",
       " 'C116P77ThinF_IMG_20150930_171448_cell_100.png',\n",
       " 'C116P77ThinF_IMG_20150930_171448_cell_101.png',\n",
       " 'C116P77ThinF_IMG_20150930_171448_cell_102.png',\n",
       " 'C116P77ThinF_IMG_20150930_171448_cell_103.png',\n",
       " 'C116P77ThinF_IMG_20150930_171448_cell_104.png',\n",
       " 'C116P77ThinF_IMG_20150930_171448_cell_105.png',\n",
       " 'C116P77ThinF_IMG_20150930_171448_cell_106.png',\n",
       " 'C116P77ThinF_IMG_20150930_171448_cell_107.png',\n",
       " 'C116P77ThinF_IMG_20150930_171448_cell_108.png',\n",
       " 'C116P77ThinF_IMG_20150930_171448_cell_109.png',\n",
       " 'C116P77ThinF_IMG_20150930_171448_cell_110.png',\n",
       " 'C116P77ThinF_IMG_20150930_171448_cell_111.png',\n",
       " 'C116P77ThinF_IMG_20150930_171448_cell_112.png',\n",
       " 'C116P77ThinF_IMG_20150930_171448_cell_113.png',\n",
       " 'C116P77ThinF_IMG_20150930_171448_cell_115.png',\n",
       " 'C116P77ThinF_IMG_20150930_171448_cell_116.png',\n",
       " 'C116P77ThinF_IMG_20150930_171448_cell_117.png',\n",
       " 'C116P77ThinF_IMG_20150930_171448_cell_118.png',\n",
       " 'C116P77ThinF_IMG_20150930_171448_cell_119.png',\n",
       " 'C116P77ThinF_IMG_20150930_171448_cell_120.png',\n",
       " 'C116P77ThinF_IMG_20150930_171448_cell_121.png',\n",
       " 'C116P77ThinF_IMG_20150930_171448_cell_122.png',\n",
       " 'C116P77ThinF_IMG_20150930_171448_cell_123.png',\n",
       " 'C116P77ThinF_IMG_20150930_171448_cell_124.png',\n",
       " 'C116P77ThinF_IMG_20150930_171448_cell_125.png',\n",
       " 'C116P77ThinF_IMG_20150930_171448_cell_126.png',\n",
       " 'C116P77ThinF_IMG_20150930_171448_cell_127.png',\n",
       " 'C116P77ThinF_IMG_20150930_171448_cell_129.png',\n",
       " 'C116P77ThinF_IMG_20150930_171448_cell_130.png',\n",
       " 'C116P77ThinF_IMG_20150930_171448_cell_131.png',\n",
       " 'C116P77ThinF_IMG_20150930_171448_cell_132.png',\n",
       " 'C116P77ThinF_IMG_20150930_171448_cell_83.png',\n",
       " 'C116P77ThinF_IMG_20150930_171448_cell_84.png',\n",
       " 'C116P77ThinF_IMG_20150930_171448_cell_86.png',\n",
       " 'C116P77ThinF_IMG_20150930_171448_cell_89.png',\n",
       " 'C116P77ThinF_IMG_20150930_171448_cell_90.png',\n",
       " 'C116P77ThinF_IMG_20150930_171448_cell_91.png',\n",
       " 'C116P77ThinF_IMG_20150930_171448_cell_92.png',\n",
       " 'C116P77ThinF_IMG_20150930_171448_cell_93.png',\n",
       " 'C116P77ThinF_IMG_20150930_171448_cell_94.png',\n",
       " 'C116P77ThinF_IMG_20150930_171448_cell_95.png',\n",
       " 'C116P77ThinF_IMG_20150930_171448_cell_96.png',\n",
       " 'C116P77ThinF_IMG_20150930_171448_cell_97.png',\n",
       " 'C116P77ThinF_IMG_20150930_171448_cell_98.png',\n",
       " 'C116P77ThinF_IMG_20150930_171448_cell_99.png',\n",
       " 'C116P77ThinF_IMG_20150930_171558_cell_101.png',\n",
       " 'C116P77ThinF_IMG_20150930_171558_cell_102.png',\n",
       " 'C116P77ThinF_IMG_20150930_171558_cell_104.png',\n",
       " 'C116P77ThinF_IMG_20150930_171558_cell_105.png',\n",
       " 'C116P77ThinF_IMG_20150930_171558_cell_106.png',\n",
       " 'C116P77ThinF_IMG_20150930_171558_cell_107.png',\n",
       " 'C116P77ThinF_IMG_20150930_171558_cell_108.png',\n",
       " 'C116P77ThinF_IMG_20150930_171558_cell_109.png',\n",
       " 'C116P77ThinF_IMG_20150930_171558_cell_110.png',\n",
       " 'C116P77ThinF_IMG_20150930_171558_cell_111.png',\n",
       " 'C116P77ThinF_IMG_20150930_171558_cell_112.png',\n",
       " 'C116P77ThinF_IMG_20150930_171558_cell_115.png',\n",
       " 'C116P77ThinF_IMG_20150930_171558_cell_116.png',\n",
       " 'C116P77ThinF_IMG_20150930_171558_cell_117.png',\n",
       " 'C116P77ThinF_IMG_20150930_171558_cell_118.png',\n",
       " 'C116P77ThinF_IMG_20150930_171558_cell_119.png',\n",
       " 'C116P77ThinF_IMG_20150930_171558_cell_120.png',\n",
       " 'C116P77ThinF_IMG_20150930_171558_cell_121.png',\n",
       " 'C116P77ThinF_IMG_20150930_171558_cell_122.png',\n",
       " 'C116P77ThinF_IMG_20150930_171558_cell_123.png',\n",
       " 'C116P77ThinF_IMG_20150930_171558_cell_126.png',\n",
       " 'C116P77ThinF_IMG_20150930_171558_cell_128.png',\n",
       " 'C116P77ThinF_IMG_20150930_171558_cell_129.png',\n",
       " 'C116P77ThinF_IMG_20150930_171558_cell_130.png',\n",
       " 'C116P77ThinF_IMG_20150930_171558_cell_132.png',\n",
       " 'C116P77ThinF_IMG_20150930_171558_cell_133.png',\n",
       " 'C116P77ThinF_IMG_20150930_171558_cell_134.png',\n",
       " 'C116P77ThinF_IMG_20150930_171558_cell_135.png',\n",
       " 'C116P77ThinF_IMG_20150930_171558_cell_136.png',\n",
       " 'C116P77ThinF_IMG_20150930_171558_cell_137.png',\n",
       " 'C116P77ThinF_IMG_20150930_171558_cell_138.png',\n",
       " 'C116P77ThinF_IMG_20150930_171558_cell_139.png',\n",
       " 'C116P77ThinF_IMG_20150930_171558_cell_140.png',\n",
       " 'C116P77ThinF_IMG_20150930_171558_cell_141.png',\n",
       " 'C116P77ThinF_IMG_20150930_171558_cell_142.png',\n",
       " 'C116P77ThinF_IMG_20150930_171558_cell_144.png',\n",
       " 'C116P77ThinF_IMG_20150930_171558_cell_145.png',\n",
       " 'C116P77ThinF_IMG_20150930_171558_cell_146.png',\n",
       " 'C116P77ThinF_IMG_20150930_171558_cell_147.png',\n",
       " 'C116P77ThinF_IMG_20150930_171558_cell_148.png',\n",
       " 'C116P77ThinF_IMG_20150930_171558_cell_150.png',\n",
       " 'C116P77ThinF_IMG_20150930_171558_cell_151.png',\n",
       " 'C116P77ThinF_IMG_20150930_171558_cell_89.png',\n",
       " 'C116P77ThinF_IMG_20150930_171558_cell_90.png',\n",
       " 'C116P77ThinF_IMG_20150930_171558_cell_91.png',\n",
       " 'C116P77ThinF_IMG_20150930_171558_cell_92.png',\n",
       " 'C116P77ThinF_IMG_20150930_171558_cell_93.png',\n",
       " 'C116P77ThinF_IMG_20150930_171558_cell_95.png',\n",
       " 'C116P77ThinF_IMG_20150930_171558_cell_96.png',\n",
       " 'C116P77ThinF_IMG_20150930_171558_cell_97.png',\n",
       " 'C116P77ThinF_IMG_20150930_171558_cell_98.png',\n",
       " 'C116P77ThinF_IMG_20150930_171635_cell_100.png',\n",
       " 'C116P77ThinF_IMG_20150930_171635_cell_101.png',\n",
       " 'C116P77ThinF_IMG_20150930_171635_cell_102.png',\n",
       " 'C116P77ThinF_IMG_20150930_171635_cell_103.png',\n",
       " 'C116P77ThinF_IMG_20150930_171635_cell_105.png',\n",
       " 'C116P77ThinF_IMG_20150930_171635_cell_106.png',\n",
       " 'C116P77ThinF_IMG_20150930_171635_cell_107.png',\n",
       " 'C116P77ThinF_IMG_20150930_171635_cell_108.png',\n",
       " 'C116P77ThinF_IMG_20150930_171635_cell_109.png',\n",
       " 'C116P77ThinF_IMG_20150930_171635_cell_110.png',\n",
       " 'C116P77ThinF_IMG_20150930_171635_cell_111.png',\n",
       " 'C116P77ThinF_IMG_20150930_171635_cell_112.png',\n",
       " 'C116P77ThinF_IMG_20150930_171635_cell_113.png',\n",
       " 'C116P77ThinF_IMG_20150930_171635_cell_114.png',\n",
       " 'C116P77ThinF_IMG_20150930_171635_cell_115.png',\n",
       " 'C116P77ThinF_IMG_20150930_171635_cell_70.png',\n",
       " 'C116P77ThinF_IMG_20150930_171635_cell_71.png',\n",
       " 'C116P77ThinF_IMG_20150930_171635_cell_72.png',\n",
       " 'C116P77ThinF_IMG_20150930_171635_cell_73.png',\n",
       " 'C116P77ThinF_IMG_20150930_171635_cell_74.png',\n",
       " 'C116P77ThinF_IMG_20150930_171635_cell_75.png',\n",
       " 'C116P77ThinF_IMG_20150930_171635_cell_76.png',\n",
       " 'C116P77ThinF_IMG_20150930_171635_cell_77.png',\n",
       " 'C116P77ThinF_IMG_20150930_171635_cell_78.png',\n",
       " 'C116P77ThinF_IMG_20150930_171635_cell_79.png',\n",
       " 'C116P77ThinF_IMG_20150930_171635_cell_80.png',\n",
       " 'C116P77ThinF_IMG_20150930_171635_cell_81.png',\n",
       " 'C116P77ThinF_IMG_20150930_171635_cell_83.png',\n",
       " 'C116P77ThinF_IMG_20150930_171635_cell_84.png',\n",
       " 'C116P77ThinF_IMG_20150930_171635_cell_85.png',\n",
       " 'C116P77ThinF_IMG_20150930_171635_cell_86.png',\n",
       " 'C116P77ThinF_IMG_20150930_171635_cell_87.png',\n",
       " 'C116P77ThinF_IMG_20150930_171635_cell_89.png',\n",
       " 'C116P77ThinF_IMG_20150930_171635_cell_90.png',\n",
       " 'C116P77ThinF_IMG_20150930_171635_cell_91.png',\n",
       " 'C116P77ThinF_IMG_20150930_171635_cell_92.png',\n",
       " 'C116P77ThinF_IMG_20150930_171635_cell_93.png',\n",
       " 'C116P77ThinF_IMG_20150930_171635_cell_94.png',\n",
       " 'C116P77ThinF_IMG_20150930_171635_cell_95.png',\n",
       " 'C116P77ThinF_IMG_20150930_171635_cell_96.png',\n",
       " 'C116P77ThinF_IMG_20150930_171635_cell_97.png',\n",
       " 'C116P77ThinF_IMG_20150930_171635_cell_98.png',\n",
       " 'C116P77ThinF_IMG_20150930_171635_cell_99.png',\n",
       " 'C116P77ThinF_IMG_20150930_171739_cell_100.png',\n",
       " 'C116P77ThinF_IMG_20150930_171739_cell_101.png',\n",
       " 'C116P77ThinF_IMG_20150930_171739_cell_102.png',\n",
       " 'C116P77ThinF_IMG_20150930_171739_cell_103.png',\n",
       " 'C116P77ThinF_IMG_20150930_171739_cell_104.png',\n",
       " 'C116P77ThinF_IMG_20150930_171739_cell_105.png',\n",
       " 'C116P77ThinF_IMG_20150930_171739_cell_106.png',\n",
       " 'C116P77ThinF_IMG_20150930_171739_cell_107.png',\n",
       " 'C116P77ThinF_IMG_20150930_171739_cell_108.png',\n",
       " 'C116P77ThinF_IMG_20150930_171739_cell_111.png',\n",
       " 'C116P77ThinF_IMG_20150930_171739_cell_112.png',\n",
       " 'C116P77ThinF_IMG_20150930_171739_cell_113.png',\n",
       " 'C116P77ThinF_IMG_20150930_171739_cell_114.png',\n",
       " 'C116P77ThinF_IMG_20150930_171739_cell_115.png',\n",
       " 'C116P77ThinF_IMG_20150930_171739_cell_116.png',\n",
       " 'C116P77ThinF_IMG_20150930_171739_cell_117.png',\n",
       " 'C116P77ThinF_IMG_20150930_171739_cell_118.png',\n",
       " 'C116P77ThinF_IMG_20150930_171739_cell_75.png',\n",
       " 'C116P77ThinF_IMG_20150930_171739_cell_76.png',\n",
       " 'C116P77ThinF_IMG_20150930_171739_cell_77.png',\n",
       " 'C116P77ThinF_IMG_20150930_171739_cell_78.png',\n",
       " 'C116P77ThinF_IMG_20150930_171739_cell_80.png',\n",
       " 'C116P77ThinF_IMG_20150930_171739_cell_81.png',\n",
       " 'C116P77ThinF_IMG_20150930_171739_cell_82.png',\n",
       " 'C116P77ThinF_IMG_20150930_171739_cell_84.png',\n",
       " 'C116P77ThinF_IMG_20150930_171739_cell_86.png',\n",
       " 'C116P77ThinF_IMG_20150930_171739_cell_87.png',\n",
       " 'C116P77ThinF_IMG_20150930_171739_cell_88.png',\n",
       " 'C116P77ThinF_IMG_20150930_171739_cell_90.png',\n",
       " 'C116P77ThinF_IMG_20150930_171739_cell_91.png',\n",
       " 'C116P77ThinF_IMG_20150930_171739_cell_92.png',\n",
       " 'C116P77ThinF_IMG_20150930_171739_cell_93.png',\n",
       " 'C116P77ThinF_IMG_20150930_171739_cell_94.png',\n",
       " 'C116P77ThinF_IMG_20150930_171739_cell_95.png',\n",
       " 'C116P77ThinF_IMG_20150930_171739_cell_96.png',\n",
       " 'C116P77ThinF_IMG_20150930_171739_cell_97.png',\n",
       " 'C116P77ThinF_IMG_20150930_171739_cell_98.png',\n",
       " 'C116P77ThinF_IMG_20150930_171739_cell_99.png',\n",
       " 'C116P77ThinF_IMG_20150930_171809_cell_58.png',\n",
       " 'C116P77ThinF_IMG_20150930_171809_cell_59.png',\n",
       " 'C116P77ThinF_IMG_20150930_171809_cell_60.png',\n",
       " 'C116P77ThinF_IMG_20150930_171809_cell_61.png',\n",
       " 'C116P77ThinF_IMG_20150930_171809_cell_62.png',\n",
       " 'C116P77ThinF_IMG_20150930_171809_cell_64.png',\n",
       " 'C116P77ThinF_IMG_20150930_171809_cell_65.png',\n",
       " 'C116P77ThinF_IMG_20150930_171809_cell_66.png',\n",
       " 'C116P77ThinF_IMG_20150930_171809_cell_67.png',\n",
       " 'C116P77ThinF_IMG_20150930_171809_cell_68.png',\n",
       " 'C116P77ThinF_IMG_20150930_171809_cell_69.png',\n",
       " 'C116P77ThinF_IMG_20150930_171809_cell_70.png',\n",
       " 'C116P77ThinF_IMG_20150930_171809_cell_71.png',\n",
       " 'C116P77ThinF_IMG_20150930_171809_cell_72.png',\n",
       " 'C116P77ThinF_IMG_20150930_171809_cell_73.png',\n",
       " 'C116P77ThinF_IMG_20150930_171809_cell_74.png',\n",
       " 'C116P77ThinF_IMG_20150930_171809_cell_75.png',\n",
       " 'C116P77ThinF_IMG_20150930_171809_cell_76.png',\n",
       " 'C116P77ThinF_IMG_20150930_171809_cell_77.png',\n",
       " 'C116P77ThinF_IMG_20150930_171809_cell_78.png',\n",
       " 'C116P77ThinF_IMG_20150930_171809_cell_79.png',\n",
       " 'C116P77ThinF_IMG_20150930_171809_cell_80.png',\n",
       " 'C116P77ThinF_IMG_20150930_171809_cell_81.png',\n",
       " 'C116P77ThinF_IMG_20150930_171809_cell_82.png',\n",
       " 'C116P77ThinF_IMG_20150930_171809_cell_83.png',\n",
       " 'C116P77ThinF_IMG_20150930_171809_cell_84.png',\n",
       " 'C116P77ThinF_IMG_20150930_171809_cell_85.png',\n",
       " 'C116P77ThinF_IMG_20150930_171809_cell_86.png',\n",
       " 'C116P77ThinF_IMG_20150930_171809_cell_87.png',\n",
       " 'C116P77ThinF_IMG_20150930_171844_cell_100.png',\n",
       " 'C116P77ThinF_IMG_20150930_171844_cell_101.png',\n",
       " 'C116P77ThinF_IMG_20150930_171844_cell_102.png',\n",
       " 'C116P77ThinF_IMG_20150930_171844_cell_103.png',\n",
       " 'C116P77ThinF_IMG_20150930_171844_cell_104.png',\n",
       " 'C116P77ThinF_IMG_20150930_171844_cell_105.png',\n",
       " 'C116P77ThinF_IMG_20150930_171844_cell_106.png',\n",
       " 'C116P77ThinF_IMG_20150930_171844_cell_107.png',\n",
       " 'C116P77ThinF_IMG_20150930_171844_cell_108.png',\n",
       " 'C116P77ThinF_IMG_20150930_171844_cell_109.png',\n",
       " 'C116P77ThinF_IMG_20150930_171844_cell_110.png',\n",
       " 'C116P77ThinF_IMG_20150930_171844_cell_111.png',\n",
       " 'C116P77ThinF_IMG_20150930_171844_cell_112.png',\n",
       " 'C116P77ThinF_IMG_20150930_171844_cell_113.png',\n",
       " 'C116P77ThinF_IMG_20150930_171844_cell_114.png',\n",
       " 'C116P77ThinF_IMG_20150930_171844_cell_115.png',\n",
       " 'C116P77ThinF_IMG_20150930_171844_cell_116.png',\n",
       " 'C116P77ThinF_IMG_20150930_171844_cell_117.png',\n",
       " 'C116P77ThinF_IMG_20150930_171844_cell_118.png',\n",
       " 'C116P77ThinF_IMG_20150930_171844_cell_119.png',\n",
       " 'C116P77ThinF_IMG_20150930_171844_cell_120.png',\n",
       " 'C116P77ThinF_IMG_20150930_171844_cell_121.png',\n",
       " 'C116P77ThinF_IMG_20150930_171844_cell_122.png',\n",
       " 'C116P77ThinF_IMG_20150930_171844_cell_123.png',\n",
       " 'C116P77ThinF_IMG_20150930_171844_cell_124.png',\n",
       " 'C116P77ThinF_IMG_20150930_171844_cell_126.png',\n",
       " 'C116P77ThinF_IMG_20150930_171844_cell_127.png',\n",
       " 'C116P77ThinF_IMG_20150930_171844_cell_128.png',\n",
       " 'C116P77ThinF_IMG_20150930_171844_cell_82.png',\n",
       " 'C116P77ThinF_IMG_20150930_171844_cell_83.png',\n",
       " 'C116P77ThinF_IMG_20150930_171844_cell_84.png',\n",
       " 'C116P77ThinF_IMG_20150930_171844_cell_85.png',\n",
       " 'C116P77ThinF_IMG_20150930_171844_cell_86.png',\n",
       " 'C116P77ThinF_IMG_20150930_171844_cell_87.png',\n",
       " 'C116P77ThinF_IMG_20150930_171844_cell_88.png',\n",
       " 'C116P77ThinF_IMG_20150930_171844_cell_89.png',\n",
       " 'C116P77ThinF_IMG_20150930_171844_cell_90.png',\n",
       " 'C116P77ThinF_IMG_20150930_171844_cell_91.png',\n",
       " 'C116P77ThinF_IMG_20150930_171844_cell_93.png',\n",
       " 'C116P77ThinF_IMG_20150930_171844_cell_94.png',\n",
       " 'C116P77ThinF_IMG_20150930_171844_cell_95.png',\n",
       " 'C116P77ThinF_IMG_20150930_171844_cell_96.png',\n",
       " 'C116P77ThinF_IMG_20150930_171844_cell_97.png',\n",
       " 'C116P77ThinF_IMG_20150930_171844_cell_98.png',\n",
       " 'C116P77ThinF_IMG_20150930_171844_cell_99.png',\n",
       " 'C116P77ThinF_IMG_20150930_171954_cell_100.png',\n",
       " 'C116P77ThinF_IMG_20150930_171954_cell_101.png',\n",
       " 'C116P77ThinF_IMG_20150930_171954_cell_102.png',\n",
       " 'C116P77ThinF_IMG_20150930_171954_cell_103.png',\n",
       " 'C116P77ThinF_IMG_20150930_171954_cell_104.png',\n",
       " 'C116P77ThinF_IMG_20150930_171954_cell_105.png',\n",
       " 'C116P77ThinF_IMG_20150930_171954_cell_107.png',\n",
       " 'C116P77ThinF_IMG_20150930_171954_cell_108.png',\n",
       " 'C116P77ThinF_IMG_20150930_171954_cell_109.png',\n",
       " 'C116P77ThinF_IMG_20150930_171954_cell_111.png',\n",
       " 'C116P77ThinF_IMG_20150930_171954_cell_112.png',\n",
       " 'C116P77ThinF_IMG_20150930_171954_cell_113.png',\n",
       " 'C116P77ThinF_IMG_20150930_171954_cell_115.png',\n",
       " 'C116P77ThinF_IMG_20150930_171954_cell_73.png',\n",
       " 'C116P77ThinF_IMG_20150930_171954_cell_74.png',\n",
       " 'C116P77ThinF_IMG_20150930_171954_cell_75.png',\n",
       " 'C116P77ThinF_IMG_20150930_171954_cell_76.png',\n",
       " 'C116P77ThinF_IMG_20150930_171954_cell_77.png',\n",
       " 'C116P77ThinF_IMG_20150930_171954_cell_78.png',\n",
       " 'C116P77ThinF_IMG_20150930_171954_cell_79.png',\n",
       " 'C116P77ThinF_IMG_20150930_171954_cell_80.png',\n",
       " 'C116P77ThinF_IMG_20150930_171954_cell_81.png',\n",
       " 'C116P77ThinF_IMG_20150930_171954_cell_82.png',\n",
       " 'C116P77ThinF_IMG_20150930_171954_cell_83.png',\n",
       " 'C116P77ThinF_IMG_20150930_171954_cell_84.png',\n",
       " 'C116P77ThinF_IMG_20150930_171954_cell_85.png',\n",
       " 'C116P77ThinF_IMG_20150930_171954_cell_86.png',\n",
       " 'C116P77ThinF_IMG_20150930_171954_cell_87.png',\n",
       " 'C116P77ThinF_IMG_20150930_171954_cell_88.png',\n",
       " 'C116P77ThinF_IMG_20150930_171954_cell_90.png',\n",
       " 'C116P77ThinF_IMG_20150930_171954_cell_91.png',\n",
       " 'C116P77ThinF_IMG_20150930_171954_cell_92.png',\n",
       " 'C116P77ThinF_IMG_20150930_171954_cell_93.png',\n",
       " 'C116P77ThinF_IMG_20150930_171954_cell_94.png',\n",
       " 'C116P77ThinF_IMG_20150930_171954_cell_95.png',\n",
       " 'C116P77ThinF_IMG_20150930_171954_cell_96.png',\n",
       " 'C116P77ThinF_IMG_20150930_171954_cell_97.png',\n",
       " 'C116P77ThinF_IMG_20150930_171954_cell_98.png',\n",
       " 'C116P77ThinF_IMG_20150930_171954_cell_99.png',\n",
       " 'C116P77ThinF_IMG_20150930_172112_cell_100.png',\n",
       " 'C116P77ThinF_IMG_20150930_172112_cell_101.png',\n",
       " 'C116P77ThinF_IMG_20150930_172112_cell_102.png',\n",
       " 'C116P77ThinF_IMG_20150930_172112_cell_103.png',\n",
       " 'C116P77ThinF_IMG_20150930_172112_cell_104.png',\n",
       " 'C116P77ThinF_IMG_20150930_172112_cell_105.png',\n",
       " 'C116P77ThinF_IMG_20150930_172112_cell_106.png',\n",
       " 'C116P77ThinF_IMG_20150930_172112_cell_107.png',\n",
       " 'C116P77ThinF_IMG_20150930_172112_cell_109.png',\n",
       " 'C116P77ThinF_IMG_20150930_172112_cell_111.png',\n",
       " 'C116P77ThinF_IMG_20150930_172112_cell_112.png',\n",
       " 'C116P77ThinF_IMG_20150930_172112_cell_113.png',\n",
       " 'C116P77ThinF_IMG_20150930_172112_cell_114.png',\n",
       " 'C116P77ThinF_IMG_20150930_172112_cell_115.png',\n",
       " 'C116P77ThinF_IMG_20150930_172112_cell_65.png',\n",
       " 'C116P77ThinF_IMG_20150930_172112_cell_66.png',\n",
       " 'C116P77ThinF_IMG_20150930_172112_cell_67.png',\n",
       " 'C116P77ThinF_IMG_20150930_172112_cell_68.png',\n",
       " ...]"
      ]
     },
     "execution_count": 7,
     "metadata": {},
     "output_type": "execute_result"
    }
   ],
   "source": [
    "os.listdir(train_path + 'parasitized')"
   ]
  },
  {
   "cell_type": "code",
   "execution_count": 11,
   "metadata": {},
   "outputs": [
    {
     "data": {
      "text/plain": [
       "<matplotlib.image.AxesImage at 0x29b56228978>"
      ]
     },
     "execution_count": 11,
     "metadata": {},
     "output_type": "execute_result"
    },
    {
     "data": {
      "image/png": "[encoded data removed]",
      "text/plain": [
       "<Figure size 1440x720 with 1 Axes>"
      ]
     },
     "metadata": {
      "needs_background": "light"
     },
     "output_type": "display_data"
    }
   ],
   "source": [
    "plt.figure(figsize=(20,10))\n",
    "plt.imshow(imread(train_path + 'parasitized\\\\' + 'C100P61ThinF_IMG_20150918_144104_cell_162.png'))"
   ]
  },
  {
   "cell_type": "code",
   "execution_count": 17,
   "metadata": {},
   "outputs": [
    {
     "data": {
      "text/plain": [
       "'C100P61ThinF_IMG_20150918_144104_cell_128.png'"
      ]
     },
     "execution_count": 17,
     "metadata": {},
     "output_type": "execute_result"
    }
   ],
   "source": [
    "os.listdir(train_path + 'uninfected')[0]"
   ]
  },
  {
   "cell_type": "code",
   "execution_count": 14,
   "metadata": {},
   "outputs": [
    {
     "data": {
      "text/plain": [
       "<matplotlib.image.AxesImage at 0x29b563f3198>"
      ]
     },
     "execution_count": 14,
     "metadata": {},
     "output_type": "execute_result"
    },
    {
     "data": {
      "image/png": "[encoded data removed]",
      "text/plain": [
       "<Figure size 1440x720 with 1 Axes>"
      ]
     },
     "metadata": {
      "needs_background": "light"
     },
     "output_type": "display_data"
    }
   ],
   "source": [
    "plt.figure(figsize=(20,10))\n",
    "plt.imshow(imread(train_path + 'uninfected\\\\' + 'C100P61ThinF_IMG_20150918_144104_cell_128.png'))"
   ]
  },
  {
   "cell_type": "code",
   "execution_count": 15,
   "metadata": {},
   "outputs": [
    {
     "data": {
      "text/plain": [
       "12480"
      ]
     },
     "execution_count": 15,
     "metadata": {},
     "output_type": "execute_result"
    }
   ],
   "source": [
    "len(os.listdir(train_path + 'uninfected'))"
   ]
  },
  {
   "cell_type": "code",
   "execution_count": 16,
   "metadata": {},
   "outputs": [
    {
     "data": {
      "text/plain": [
       "12480"
      ]
     },
     "execution_count": 16,
     "metadata": {},
     "output_type": "execute_result"
    }
   ],
   "source": [
    "len(os.listdir(train_path + 'parasitized'))"
   ]
  },
  {
   "cell_type": "code",
   "execution_count": 25,
   "metadata": {},
   "outputs": [],
   "source": [
    "img_parasitized=imread(train_path + 'parasitized\\\\' + 'C100P61ThinF_IMG_20150918_144104_cell_162.png')"
   ]
  },
  {
   "cell_type": "code",
   "execution_count": 20,
   "metadata": {},
   "outputs": [
    {
     "data": {
      "text/plain": [
       "131.4041990544114"
      ]
     },
     "execution_count": 20,
     "metadata": {},
     "output_type": "execute_result"
    }
   ],
   "source": [
    "dim1 = []\n",
    "dim2 = []\n",
    "\n",
    "for image in os.listdir(train_path+'uninfected'):\n",
    "    \n",
    "    img = imread(train_path+'uninfected\\\\' + image)\n",
    "    d1,d2,color = img.shape\n",
    "    dim1.append(d1)\n",
    "    dim2.append(d2)\n",
    "    "
   ]
  },
  {
   "cell_type": "code",
   "execution_count": 26,
   "metadata": {},
   "outputs": [
    {
     "data": {
      "text/plain": [
       "130.0"
      ]
     },
     "execution_count": 26,
     "metadata": {},
     "output_type": "execute_result"
    }
   ],
   "source": [
    "np.median(dim1)"
   ]
  },
  {
   "cell_type": "code",
   "execution_count": 25,
   "metadata": {},
   "outputs": [
    {
     "data": {
      "text/plain": [
       "130.0"
      ]
     },
     "execution_count": 25,
     "metadata": {},
     "output_type": "execute_result"
    }
   ],
   "source": [
    "np.median(dim2)"
   ]
  },
  {
   "cell_type": "code",
   "execution_count": 21,
   "metadata": {},
   "outputs": [
    {
     "data": {
      "text/plain": [
       "<matplotlib.collections.PathCollection at 0x29b56b69320>"
      ]
     },
     "execution_count": 21,
     "metadata": {},
     "output_type": "execute_result"
    },
    {
     "data": {
      "image/png": "[encoded data removed]",
      "text/plain": [
       "<Figure size 1440x720 with 1 Axes>"
      ]
     },
     "metadata": {
      "needs_background": "light"
     },
     "output_type": "display_data"
    }
   ],
   "source": [
    "plt.figure(figsize=(20,10))\n",
    "plt.scatter(dim1,dim2)"
   ]
  },
  {
   "cell_type": "code",
   "execution_count": 28,
   "metadata": {},
   "outputs": [
    {
     "data": {
      "text/plain": [
       "<matplotlib.axes._subplots.AxesSubplot at 0x29b56bd3ac8>"
      ]
     },
     "execution_count": 28,
     "metadata": {},
     "output_type": "execute_result"
    },
    {
     "data": {
      "image/png": "[encoded data removed]",
      "text/plain": [
       "<Figure size 1440x720 with 1 Axes>"
      ]
     },
     "metadata": {
      "needs_background": "light"
     },
     "output_type": "display_data"
    }
   ],
   "source": [
    "plt.figure(figsize=(20,10))\n",
    "sns.distplot(dim1, color='r')\n",
    "sns.distplot(dim2, color='b')"
   ]
  },
  {
   "cell_type": "code",
   "execution_count": 13,
   "metadata": {},
   "outputs": [],
   "source": [
    "image_shape= (130,130,3)"
   ]
  },
  {
   "cell_type": "code",
   "execution_count": 9,
   "metadata": {},
   "outputs": [],
   "source": [
    "from tensorflow.keras.preprocessing.image import ImageDataGenerator"
   ]
  },
  {
   "cell_type": "code",
   "execution_count": 36,
   "metadata": {},
   "outputs": [
    {
     "data": {
      "text/plain": [
       "0.9098039"
      ]
     },
     "execution_count": 36,
     "metadata": {},
     "output_type": "execute_result"
    }
   ],
   "source": [
    "img_parasitized.max() #Already rescaled !!!!!"
   ]
  },
  {
   "cell_type": "code",
   "execution_count": 10,
   "metadata": {},
   "outputs": [],
   "source": [
    "image_gen = ImageDataGenerator(rotation_range=45,\n",
    "                               width_shift_range=0.1,\n",
    "                               height_shift_range=0.1,\n",
    "                               shear_range=0.1,\n",
    "                               zoom_range=0.1,\n",
    "                               horizontal_flip=True,\n",
    "                               fill_mode='nearest')"
   ]
  },
  {
   "cell_type": "code",
   "execution_count": 37,
   "metadata": {},
   "outputs": [
    {
     "data": {
      "text/plain": [
       "<matplotlib.image.AxesImage at 0x29b5c5ea518>"
      ]
     },
     "execution_count": 37,
     "metadata": {},
     "output_type": "execute_result"
    },
    {
     "data": {
      "image/png": "[encoded data removed]",
      "text/plain": [
       "<Figure size 432x288 with 1 Axes>"
      ]
     },
     "metadata": {
      "needs_background": "light"
     },
     "output_type": "display_data"
    }
   ],
   "source": [
    "plt.imshow(img_parasitized)"
   ]
  },
  {
   "cell_type": "code",
   "execution_count": 41,
   "metadata": {},
   "outputs": [
    {
     "data": {
      "text/plain": [
       "<matplotlib.image.AxesImage at 0x29b5cb7f748>"
      ]
     },
     "execution_count": 41,
     "metadata": {},
     "output_type": "execute_result"
    },
    {
     "data": {
      "image/png": "[encoded data removed]",
      "text/plain": [
       "<Figure size 864x576 with 1 Axes>"
      ]
     },
     "metadata": {
      "needs_background": "light"
     },
     "output_type": "display_data"
    }
   ],
   "source": [
    "plt.figure(figsize=(12,8))\n",
    "plt.imshow(image_gen.random_transform(img_parasitized))"
   ]
  },
  {
   "cell_type": "code",
   "execution_count": 11,
   "metadata": {},
   "outputs": [
    {
     "name": "stdout",
     "output_type": "stream",
     "text": [
      "Found 24958 images belonging to 2 classes.\n"
     ]
    },
    {
     "data": {
      "text/plain": [
       "<keras_preprocessing.image.directory_iterator.DirectoryIterator at 0x27456dff860>"
      ]
     },
     "execution_count": 11,
     "metadata": {},
     "output_type": "execute_result"
    }
   ],
   "source": [
    "image_gen.flow_from_directory(train_path)"
   ]
  },
  {
   "cell_type": "code",
   "execution_count": 43,
   "metadata": {},
   "outputs": [],
   "source": [
    "import tensorflow as tf\n",
    "from tensorflow.keras.models import Sequential\n",
    "from tensorflow.keras.layers import Dense, Conv2D, MaxPool2D, Flatten,Activation, Dropout"
   ]
  },
  {
   "cell_type": "code",
   "execution_count": 44,
   "metadata": {},
   "outputs": [],
   "source": [
    "model = Sequential()\n",
    "model.add(Conv2D(32, (3,3), input_shape = image_shape))\n",
    "model.add(Activation('relu'))\n",
    "model.add(MaxPool2D((2,2)))\n",
    "\n",
    "model.add(Conv2D(64, (3,3)))\n",
    "model.add(Activation('relu'))\n",
    "model.add(MaxPool2D((2,2)))\n",
    "model.add(Dropout(0.25))\n",
    "\n",
    "model.add(Conv2D(64, (3,3)))\n",
    "model.add(Activation('relu'))\n",
    "model.add(MaxPool2D((2,2)))\n",
    "\n",
    "model.add(Flatten())\n",
    "model.add(Dense(128))\n",
    "model.add(Activation('relu'))\n",
    "\n",
    "model.add(Dense(1))\n",
    "model.add(Activation('sigmoid'))"
   ]
  },
  {
   "cell_type": "code",
   "execution_count": 45,
   "metadata": {},
   "outputs": [],
   "source": [
    "model.compile(loss='binary_crossentropy', optimizer ='adam', metrics =['accuracy'])"
   ]
  },
  {
   "cell_type": "code",
   "execution_count": 46,
   "metadata": {},
   "outputs": [
    {
     "name": "stdout",
     "output_type": "stream",
     "text": [
      "Model: \"sequential\"\n",
      "_________________________________________________________________\n",
      "Layer (type)                 Output Shape              Param #   \n",
      "=================================================================\n",
      "conv2d (Conv2D)              (None, 128, 128, 32)      896       \n",
      "_________________________________________________________________\n",
      "activation (Activation)      (None, 128, 128, 32)      0         \n",
      "_________________________________________________________________\n",
      "max_pooling2d (MaxPooling2D) (None, 64, 64, 32)        0         \n",
      "_________________________________________________________________\n",
      "conv2d_1 (Conv2D)            (None, 62, 62, 64)        18496     \n",
      "_________________________________________________________________\n",
      "activation_1 (Activation)    (None, 62, 62, 64)        0         \n",
      "_________________________________________________________________\n",
      "max_pooling2d_1 (MaxPooling2 (None, 31, 31, 64)        0         \n",
      "_________________________________________________________________\n",
      "dropout (Dropout)            (None, 31, 31, 64)        0         \n",
      "_________________________________________________________________\n",
      "conv2d_2 (Conv2D)            (None, 29, 29, 64)        36928     \n",
      "_________________________________________________________________\n",
      "activation_2 (Activation)    (None, 29, 29, 64)        0         \n",
      "_________________________________________________________________\n",
      "max_pooling2d_2 (MaxPooling2 (None, 14, 14, 64)        0         \n",
      "_________________________________________________________________\n",
      "flatten (Flatten)            (None, 12544)             0         \n",
      "_________________________________________________________________\n",
      "dense (Dense)                (None, 128)               1605760   \n",
      "_________________________________________________________________\n",
      "activation_3 (Activation)    (None, 128)               0         \n",
      "_________________________________________________________________\n",
      "dense_1 (Dense)              (None, 1)                 129       \n",
      "_________________________________________________________________\n",
      "activation_4 (Activation)    (None, 1)                 0         \n",
      "=================================================================\n",
      "Total params: 1,662,209\n",
      "Trainable params: 1,662,209\n",
      "Non-trainable params: 0\n",
      "_________________________________________________________________\n"
     ]
    }
   ],
   "source": [
    "model.summary()"
   ]
  },
  {
   "cell_type": "code",
   "execution_count": 14,
   "metadata": {},
   "outputs": [
    {
     "name": "stdout",
     "output_type": "stream",
     "text": [
      "Found 24958 images belonging to 2 classes.\n",
      "Found 2600 images belonging to 2 classes.\n"
     ]
    }
   ],
   "source": [
    "train_image = image_gen.flow_from_directory(train_path,\n",
    "                                            target_size= image_shape[:2],\n",
    "                                            color_mode='rgb',\n",
    "                                            batch_size=16,\n",
    "                                            class_mode='binary')\n",
    "\n",
    "test_image = image_gen.flow_from_directory(test_path,\n",
    "                                            target_size= image_shape[:2],\n",
    "                                            color_mode='rgb',\n",
    "                                            batch_size=16,\n",
    "                                            class_mode='binary',\n",
    "                                            shuffle=False)"
   ]
  },
  {
   "cell_type": "code",
   "execution_count": 15,
   "metadata": {},
   "outputs": [
    {
     "data": {
      "text/plain": [
       "{'parasitized': 0, 'uninfected': 1}"
      ]
     },
     "execution_count": 15,
     "metadata": {},
     "output_type": "execute_result"
    }
   ],
   "source": [
    "train_image.class_indices"
   ]
  },
  {
   "cell_type": "code",
   "execution_count": 50,
   "metadata": {},
   "outputs": [],
   "source": [
    "from tensorflow.keras.callbacks import EarlyStopping\n",
    "early_stop = EarlyStopping(monitor = 'val_loss', mode ='min', verbose= 1, patience=10)"
   ]
  },
  {
   "cell_type": "code",
   "execution_count": null,
   "metadata": {},
   "outputs": [],
   "source": [
    "result = model.fit(train_image,epochs=2,\n",
    "                  validation_data=test_image,\n",
    "                  callbacks=[early_stop])"
   ]
  },
  {
   "cell_type": "code",
   "execution_count": 1,
   "metadata": {},
   "outputs": [],
   "source": [
    "from tensorflow.keras.models import load_model"
   ]
  },
  {
   "cell_type": "code",
   "execution_count": 3,
   "metadata": {},
   "outputs": [
    {
     "name": "stdout",
     "output_type": "stream",
     "text": [
      "WARNING:tensorflow:From C:\\Anaconda3\\lib\\site-packages\\tensorflow_core\\python\\ops\\math_grad.py:1424: where (from tensorflow.python.ops.array_ops) is deprecated and will be removed in a future version.\n",
      "Instructions for updating:\n",
      "Use tf.where in 2.0, which has the same broadcast rule as np.where\n"
     ]
    }
   ],
   "source": [
    "malaria_model = load_model('malaria_detector.h5')"
   ]
  },
  {
   "cell_type": "code",
   "execution_count": 16,
   "metadata": {},
   "outputs": [
    {
     "data": {
      "text/plain": [
       "[2.579557692527805, 0.8280769]"
      ]
     },
     "execution_count": 16,
     "metadata": {},
     "output_type": "execute_result"
    }
   ],
   "source": [
    "malaria_model.evaluate_generator(test_image)"
   ]
  },
  {
   "cell_type": "code",
   "execution_count": 17,
   "metadata": {},
   "outputs": [
    {
     "data": {
      "text/plain": [
       "['loss', 'accuracy']"
      ]
     },
     "execution_count": 17,
     "metadata": {},
     "output_type": "execute_result"
    }
   ],
   "source": [
    "malaria_model.metrics_names"
   ]
  },
  {
   "cell_type": "code",
   "execution_count": 18,
   "metadata": {},
   "outputs": [],
   "source": [
    "pred = malaria_model.predict_generator(test_image)\n",
    "predictions = pred > 0.5"
   ]
  },
  {
   "cell_type": "code",
   "execution_count": 19,
   "metadata": {},
   "outputs": [
    {
     "data": {
      "text/plain": [
       "array([[False],\n",
       "       [False],\n",
       "       [False],\n",
       "       ...,\n",
       "       [ True],\n",
       "       [False],\n",
       "       [False]])"
      ]
     },
     "execution_count": 19,
     "metadata": {},
     "output_type": "execute_result"
    }
   ],
   "source": [
    "predictions"
   ]
  },
  {
   "cell_type": "code",
   "execution_count": 20,
   "metadata": {},
   "outputs": [],
   "source": [
    "from sklearn.metrics import classification_report, confusion_matrix"
   ]
  },
  {
   "cell_type": "code",
   "execution_count": 22,
   "metadata": {},
   "outputs": [
    {
     "data": {
      "text/plain": [
       "array([0, 0, 0, ..., 1, 1, 1])"
      ]
     },
     "execution_count": 22,
     "metadata": {},
     "output_type": "execute_result"
    }
   ],
   "source": [
    "test_image.classes"
   ]
  },
  {
   "cell_type": "code",
   "execution_count": 23,
   "metadata": {},
   "outputs": [
    {
     "name": "stdout",
     "output_type": "stream",
     "text": [
      "              precision    recall  f1-score   support\n",
      "\n",
      "           0       0.76      0.98      0.86      1300\n",
      "           1       0.98      0.68      0.80      1300\n",
      "\n",
      "    accuracy                           0.83      2600\n",
      "   macro avg       0.87      0.83      0.83      2600\n",
      "weighted avg       0.87      0.83      0.83      2600\n",
      "\n"
     ]
    }
   ],
   "source": [
    "print(classification_report(test_image.classes,predictions))"
   ]
  },
  {
   "cell_type": "code",
   "execution_count": 24,
   "metadata": {},
   "outputs": [
    {
     "data": {
      "text/plain": [
       "array([[1278,   22],\n",
       "       [ 411,  889]], dtype=int64)"
      ]
     },
     "execution_count": 24,
     "metadata": {},
     "output_type": "execute_result"
    }
   ],
   "source": [
    "confusion_matrix(test_image.classes,predictions)"
   ]
  },
  {
   "cell_type": "code",
   "execution_count": 26,
   "metadata": {
    "scrolled": true
   },
   "outputs": [
    {
     "data": {
      "text/plain": [
       "array([[[0., 0., 0.],\n",
       "        [0., 0., 0.],\n",
       "        [0., 0., 0.],\n",
       "        ...,\n",
       "        [0., 0., 0.],\n",
       "        [0., 0., 0.],\n",
       "        [0., 0., 0.]],\n",
       "\n",
       "       [[0., 0., 0.],\n",
       "        [0., 0., 0.],\n",
       "        [0., 0., 0.],\n",
       "        ...,\n",
       "        [0., 0., 0.],\n",
       "        [0., 0., 0.],\n",
       "        [0., 0., 0.]],\n",
       "\n",
       "       [[0., 0., 0.],\n",
       "        [0., 0., 0.],\n",
       "        [0., 0., 0.],\n",
       "        ...,\n",
       "        [0., 0., 0.],\n",
       "        [0., 0., 0.],\n",
       "        [0., 0., 0.]],\n",
       "\n",
       "       ...,\n",
       "\n",
       "       [[0., 0., 0.],\n",
       "        [0., 0., 0.],\n",
       "        [0., 0., 0.],\n",
       "        ...,\n",
       "        [0., 0., 0.],\n",
       "        [0., 0., 0.],\n",
       "        [0., 0., 0.]],\n",
       "\n",
       "       [[0., 0., 0.],\n",
       "        [0., 0., 0.],\n",
       "        [0., 0., 0.],\n",
       "        ...,\n",
       "        [0., 0., 0.],\n",
       "        [0., 0., 0.],\n",
       "        [0., 0., 0.]],\n",
       "\n",
       "       [[0., 0., 0.],\n",
       "        [0., 0., 0.],\n",
       "        [0., 0., 0.],\n",
       "        ...,\n",
       "        [0., 0., 0.],\n",
       "        [0., 0., 0.],\n",
       "        [0., 0., 0.]]], dtype=float32)"
      ]
     },
     "execution_count": 26,
     "metadata": {},
     "output_type": "execute_result"
    }
   ],
   "source": [
    "img_parasitized"
   ]
  },
  {
   "cell_type": "code",
   "execution_count": null,
   "metadata": {},
   "outputs": [],
   "source": []
  },
  {
   "cell_type": "code",
   "execution_count": null,
   "metadata": {},
   "outputs": [],
   "source": []
  }
 ],
 "metadata": {
  "kernelspec": {
   "display_name": "Python 3",
   "language": "python",
   "name": "python3"
  },
  "language_info": {
   "codemirror_mode": {
    "name": "ipython",
    "version": 3
   },
   "file_extension": ".py",
   "mimetype": "text/x-python",
   "name": "python",
   "nbconvert_exporter": "python",
   "pygments_lexer": "ipython3",
   "version": "3.7.3"
  }
 },
 "nbformat": 4,
 "nbformat_minor": 2
}
